{
 "cells": [
  {
   "cell_type": "markdown",
   "metadata": {
    "id": "s_qNSzzyaCbD"
   },
   "source": [
    "##### Copyright 2019 The TensorFlow Authors."
   ]
  },
  {
   "cell_type": "code",
   "execution_count": 1,
   "metadata": {
    "cellView": "form",
    "execution": {
     "iopub.execute_input": "2021-11-02T15:31:58.393317Z",
     "iopub.status.busy": "2021-11-02T15:31:58.392652Z",
     "iopub.status.idle": "2021-11-02T15:31:58.395087Z",
     "shell.execute_reply": "2021-11-02T15:31:58.395485Z"
    },
    "id": "jmjh290raIky"
   },
   "outputs": [],
   "source": [
    "#@title Licensed under the Apache License, Version 2.0 (the \"License\");\n",
    "# you may not use this file except in compliance with the License.\n",
    "# You may obtain a copy of the License at\n",
    "#\n",
    "# https://www.apache.org/licenses/LICENSE-2.0\n",
    "#\n",
    "# Unless required by applicable law or agreed to in writing, software\n",
    "# distributed under the License is distributed on an \"AS IS\" BASIS,\n",
    "# WITHOUT WARRANTIES OR CONDITIONS OF ANY KIND, either express or implied.\n",
    "# See the License for the specific language governing permissions and\n",
    "# limitations under the License."
   ]
  },
  {
   "cell_type": "markdown",
   "metadata": {
    "id": "J0Qjg6vuaHNt"
   },
   "source": [
    "# Transformer model for language understanding"
   ]
  },
  {
   "cell_type": "markdown",
   "metadata": {
    "id": "AOpGoE2T-YXS"
   },
   "source": [
    "<table class=\"tfo-notebook-buttons\" align=\"left\">\n",
    "  <td>\n",
    "    <a target=\"_blank\" href=\"https://www.tensorflow.org/text/tutorials/transformer\">\n",
    "    <img src=\"https://www.tensorflow.org/images/tf_logo_32px.png\" />\n",
    "    View on TensorFlow.org</a>\n",
    "  </td>\n",
    "  <td>\n",
    "    <a target=\"_blank\" href=\"https://colab.research.google.com/github/tensorflow/text/blob/master/docs/tutorials/transformer.ipynb\">\n",
    "    <img src=\"https://www.tensorflow.org/images/colab_logo_32px.png\" />\n",
    "    Run in Google Colab</a>\n",
    "  </td>\n",
    "  <td>\n",
    "    <a target=\"_blank\" href=\"https://github.com/tensorflow/text/blob/master/docs/tutorials/transformer.ipynb\">\n",
    "    <img src=\"https://www.tensorflow.org/images/GitHub-Mark-32px.png\" />\n",
    "    View source on GitHub</a>\n",
    "  </td>\n",
    "  <td>\n",
    "    <a href=\"https://storage.googleapis.com/tensorflow_docs/text/docs/tutorials/transformer.ipynb\"><img src=\"https://www.tensorflow.org/images/download_logo_32px.png\" />Download notebook</a>\n",
    "  </td>\n",
    "</table>"
   ]
  },
  {
   "cell_type": "markdown",
   "metadata": {
    "id": "M-f8TnGpE_ex"
   },
   "source": [
    "This tutorial trains a <a href=\"https://arxiv.org/abs/1706.03762\" class=\"external\">Transformer model</a> to translate a [Portuguese to English dataset](https://www.tensorflow.org/datasets/catalog/ted_hrlr_translate#ted_hrlr_translatept_to_en). This is an advanced example that assumes knowledge of [text generation](https://www.tensorflow.org/text/tutorials/text_generation) and [attention](https://www.tensorflow.org/text/tutorials/nmt_with_attention).\n",
    "\n",
    "The core idea behind the Transformer model is *self-attention*—the ability to attend to different positions of the input sequence to compute a representation of that sequence. Transformer creates stacks of self-attention layers and is explained below in the sections *Scaled dot product attention* and *Multi-head attention*.\n",
    "\n",
    "A transformer model handles variable-sized input using stacks of self-attention layers instead of [RNNs](https://www.tensorflow.org/text/tutorials/text_classification_rnn) or [CNNs](https://www.tensorflow.org/tutorials/images/cnn). This general architecture has a number of advantages:\n",
    "\n",
    "* It makes no assumptions about the temporal/spatial relationships across the data. This is ideal for processing a set of objects (for example, [StarCraft units](https://deepmind.com/blog/alphastar-mastering-real-time-strategy-game-starcraft-ii/#block-8)).\n",
    "* Layer outputs can be calculated in parallel, instead of a series like an RNN.\n",
    "* Distant items can affect each other's output without passing through many RNN-steps, or convolution layers (see [Scene Memory Transformer](https://arxiv.org/pdf/1903.03878.pdf) for example).\n",
    "* It can learn long-range dependencies. This is a challenge in many sequence tasks.\n",
    "\n",
    "The downsides of this architecture are:\n",
    "\n",
    "* For a time-series, the output for a time-step is calculated from the *entire history* instead of only the inputs and current hidden-state. This _may_ be less efficient.   \n",
    "* If the input *does* have a  temporal/spatial relationship, like text, some positional encoding must be added or the model will effectively see a bag of words. \n",
    "\n",
    "After training the model in this notebook, you will be able to input a Portuguese sentence and return the English translation.\n",
    "\n",
    "<img src=\"https://www.tensorflow.org/images/tutorials/transformer/attention_map_portuguese.png\" width=\"800\" alt=\"Attention heatmap\">"
   ]
  },
  {
   "cell_type": "markdown",
   "metadata": {
    "id": "swymtxpl7W7w"
   },
   "source": [
    "## Setup"
   ]
  },
  {
   "cell_type": "code",
   "execution_count": 2,
   "metadata": {
    "execution": {
     "iopub.execute_input": "2021-11-02T15:31:58.406429Z",
     "iopub.status.busy": "2021-11-02T15:31:58.403319Z",
     "iopub.status.idle": "2021-11-02T15:32:04.268637Z",
     "shell.execute_reply": "2021-11-02T15:32:04.269065Z"
    },
    "id": "XFG0NDRu5mYQ"
   },
   "outputs": [
    {
     "name": "stdout",
     "output_type": "stream",
     "text": [
      "Collecting tensorflow_datasets\n",
      "  Downloading tensorflow_datasets-4.4.0-py3-none-any.whl (4.0 MB)\n",
      "Requirement already satisfied: six in c:\\users\\maxbe\\appdata\\local\\programs\\python\\python39\\lib\\site-packages (from tensorflow_datasets) (1.15.0)\n",
      "Requirement already satisfied: termcolor in c:\\users\\maxbe\\appdata\\local\\programs\\python\\python39\\lib\\site-packages (from tensorflow_datasets) (1.1.0)\n",
      "Requirement already satisfied: absl-py in c:\\users\\maxbe\\appdata\\roaming\\python\\python39\\site-packages (from tensorflow_datasets) (0.15.0)\n",
      "Requirement already satisfied: attrs>=18.1.0 in c:\\users\\maxbe\\appdata\\local\\programs\\python\\python39\\lib\\site-packages (from tensorflow_datasets) (21.2.0)\n",
      "Requirement already satisfied: numpy in c:\\users\\maxbe\\appdata\\local\\programs\\python\\python39\\lib\\site-packages (from tensorflow_datasets) (1.21.4)\n",
      "Collecting dill\n",
      "  Downloading dill-0.3.4-py2.py3-none-any.whl (86 kB)\n",
      "Requirement already satisfied: promise in c:\\users\\maxbe\\appdata\\local\\programs\\python\\python39\\lib\\site-packages (from tensorflow_datasets) (2.3)\n",
      "Requirement already satisfied: protobuf>=3.12.2 in c:\\users\\maxbe\\appdata\\local\\programs\\python\\python39\\lib\\site-packages (from tensorflow_datasets) (3.19.1)\n",
      "Collecting future\n",
      "  Downloading future-0.18.2.tar.gz (829 kB)\n",
      "  Preparing metadata (setup.py): started\n",
      "  Preparing metadata (setup.py): finished with status 'done'\n",
      "Requirement already satisfied: requests>=2.19.0 in c:\\users\\maxbe\\appdata\\local\\programs\\python\\python39\\lib\\site-packages (from tensorflow_datasets) (2.26.0)\n",
      "Collecting tensorflow-metadata\n",
      "  Downloading tensorflow_metadata-1.5.0-py3-none-any.whl (48 kB)\n",
      "Collecting tqdm\n",
      "  Downloading tqdm-4.62.3-py2.py3-none-any.whl (76 kB)\n",
      "Requirement already satisfied: charset-normalizer~=2.0.0 in c:\\users\\maxbe\\appdata\\local\\programs\\python\\python39\\lib\\site-packages (from requests>=2.19.0->tensorflow_datasets) (2.0.7)\n",
      "Requirement already satisfied: certifi>=2017.4.17 in c:\\users\\maxbe\\appdata\\local\\programs\\python\\python39\\lib\\site-packages (from requests>=2.19.0->tensorflow_datasets) (2021.10.8)\n",
      "Requirement already satisfied: urllib3<1.27,>=1.21.1 in c:\\users\\maxbe\\appdata\\local\\programs\\python\\python39\\lib\\site-packages (from requests>=2.19.0->tensorflow_datasets) (1.26.4)\n",
      "Requirement already satisfied: idna<4,>=2.5 in c:\\users\\maxbe\\appdata\\local\\programs\\python\\python39\\lib\\site-packages (from requests>=2.19.0->tensorflow_datasets) (3.3)\n",
      "Collecting googleapis-common-protos<2,>=1.52.0\n",
      "  Downloading googleapis_common_protos-1.54.0-py2.py3-none-any.whl (207 kB)\n",
      "Collecting absl-py\n",
      "  Downloading absl_py-0.12.0-py3-none-any.whl (129 kB)\n",
      "Requirement already satisfied: colorama in c:\\users\\maxbe\\appdata\\roaming\\python\\python39\\site-packages (from tqdm->tensorflow_datasets) (0.4.4)\n",
      "Building wheels for collected packages: future\n",
      "  Building wheel for future (setup.py): started\n",
      "  Building wheel for future (setup.py): finished with status 'done'\n",
      "  Created wheel for future: filename=future-0.18.2-py3-none-any.whl size=491070 sha256=6b4f78019786bc427974f7b5f8fefbe5fcac142c5d38d5264981737deea3ff14\n",
      "  Stored in directory: c:\\users\\maxbe\\appdata\\local\\pip\\cache\\wheels\\2f\\a0\\d3\\4030d9f80e6b3be787f19fc911b8e7aa462986a40ab1e4bb94\n",
      "Successfully built future\n",
      "Installing collected packages: googleapis-common-protos, absl-py, tqdm, tensorflow-metadata, future, dill, tensorflow-datasets\n",
      "  Attempting uninstall: absl-py\n",
      "    Found existing installation: absl-py 0.15.0\n",
      "    Uninstalling absl-py-0.15.0:\n",
      "      Successfully uninstalled absl-py-0.15.0\n",
      "Successfully installed absl-py-1.0.0 dill-0.3.4 future-0.18.2 googleapis-common-protos-1.54.0 tensorflow-datasets-4.4.0 tensorflow-metadata-1.5.0 tqdm-4.62.3\n"
     ]
    },
    {
     "name": "stderr",
     "output_type": "stream",
     "text": [
      "ERROR: pip's dependency resolver does not currently take into account all the packages that are installed. This behaviour is the source of the following dependency conflicts.\n",
      "intel-tensorflow 2.6.0 requires numpy~=1.19.2, but you have numpy 1.21.4 which is incompatible.\n"
     ]
    },
    {
     "name": "stdout",
     "output_type": "stream",
     "text": [
      "Collecting tensorflow-text\n",
      "  Downloading tensorflow_text-2.7.3-cp39-cp39-win_amd64.whl (2.5 MB)\n",
      "Collecting tensorflow-hub>=0.8.0\n",
      "  Downloading tensorflow_hub-0.12.0-py2.py3-none-any.whl (108 kB)\n",
      "Requirement already satisfied: tensorflow<2.8,>=2.7.0 in c:\\users\\maxbe\\appdata\\local\\programs\\python\\python39\\lib\\site-packages (from tensorflow-text) (2.7.0)\n",
      "Requirement already satisfied: tensorflow-estimator<2.8,~=2.7.0rc0 in c:\\users\\maxbe\\appdata\\local\\programs\\python\\python39\\lib\\site-packages (from tensorflow<2.8,>=2.7.0->tensorflow-text) (2.7.0)\n",
      "Requirement already satisfied: termcolor>=1.1.0 in c:\\users\\maxbe\\appdata\\local\\programs\\python\\python39\\lib\\site-packages (from tensorflow<2.8,>=2.7.0->tensorflow-text) (1.1.0)\n",
      "Requirement already satisfied: absl-py>=0.4.0 in c:\\users\\maxbe\\appdata\\local\\programs\\python\\python39\\lib\\site-packages (from tensorflow<2.8,>=2.7.0->tensorflow-text) (1.0.0)\n",
      "Requirement already satisfied: six>=1.12.0 in c:\\users\\maxbe\\appdata\\local\\programs\\python\\python39\\lib\\site-packages (from tensorflow<2.8,>=2.7.0->tensorflow-text) (1.15.0)\n",
      "Requirement already satisfied: numpy>=1.14.5 in c:\\users\\maxbe\\appdata\\local\\programs\\python\\python39\\lib\\site-packages (from tensorflow<2.8,>=2.7.0->tensorflow-text) (1.21.4)\n",
      "Requirement already satisfied: wheel<1.0,>=0.32.0 in c:\\users\\maxbe\\appdata\\local\\programs\\python\\python39\\lib\\site-packages (from tensorflow<2.8,>=2.7.0->tensorflow-text) (0.36.2)\n",
      "Requirement already satisfied: wrapt>=1.11.0 in c:\\users\\maxbe\\appdata\\roaming\\python\\python39\\site-packages (from tensorflow<2.8,>=2.7.0->tensorflow-text) (1.12.1)\n",
      "Requirement already satisfied: protobuf>=3.9.2 in c:\\users\\maxbe\\appdata\\local\\programs\\python\\python39\\lib\\site-packages (from tensorflow<2.8,>=2.7.0->tensorflow-text) (3.19.1)\n",
      "Requirement already satisfied: h5py>=2.9.0 in c:\\users\\maxbe\\appdata\\roaming\\python\\python39\\site-packages (from tensorflow<2.8,>=2.7.0->tensorflow-text) (3.1.0)\n",
      "Requirement already satisfied: astunparse>=1.6.0 in c:\\users\\maxbe\\appdata\\local\\programs\\python\\python39\\lib\\site-packages (from tensorflow<2.8,>=2.7.0->tensorflow-text) (1.6.3)\n",
      "Requirement already satisfied: gast<0.5.0,>=0.2.1 in c:\\users\\maxbe\\appdata\\local\\programs\\python\\python39\\lib\\site-packages (from tensorflow<2.8,>=2.7.0->tensorflow-text) (0.4.0)\n",
      "Requirement already satisfied: tensorboard~=2.6 in c:\\users\\maxbe\\appdata\\local\\programs\\python\\python39\\lib\\site-packages (from tensorflow<2.8,>=2.7.0->tensorflow-text) (2.7.0)\n",
      "Requirement already satisfied: keras-preprocessing>=1.1.1 in c:\\users\\maxbe\\appdata\\local\\programs\\python\\python39\\lib\\site-packages (from tensorflow<2.8,>=2.7.0->tensorflow-text) (1.1.2)\n",
      "Requirement already satisfied: keras<2.8,>=2.7.0rc0 in c:\\users\\maxbe\\appdata\\local\\programs\\python\\python39\\lib\\site-packages (from tensorflow<2.8,>=2.7.0->tensorflow-text) (2.7.0)\n",
      "Requirement already satisfied: typing-extensions>=3.6.6 in c:\\users\\maxbe\\appdata\\roaming\\python\\python39\\site-packages (from tensorflow<2.8,>=2.7.0->tensorflow-text) (3.7.4.3)\n",
      "Requirement already satisfied: google-pasta>=0.1.1 in c:\\users\\maxbe\\appdata\\local\\programs\\python\\python39\\lib\\site-packages (from tensorflow<2.8,>=2.7.0->tensorflow-text) (0.2.0)\n",
      "Requirement already satisfied: tensorflow-io-gcs-filesystem>=0.21.0 in c:\\users\\maxbe\\appdata\\local\\programs\\python\\python39\\lib\\site-packages (from tensorflow<2.8,>=2.7.0->tensorflow-text) (0.22.0)\n",
      "Requirement already satisfied: grpcio<2.0,>=1.24.3 in c:\\users\\maxbe\\appdata\\local\\programs\\python\\python39\\lib\\site-packages (from tensorflow<2.8,>=2.7.0->tensorflow-text) (1.41.1)\n",
      "Requirement already satisfied: opt-einsum>=2.3.2 in c:\\users\\maxbe\\appdata\\local\\programs\\python\\python39\\lib\\site-packages (from tensorflow<2.8,>=2.7.0->tensorflow-text) (3.3.0)\n",
      "Requirement already satisfied: libclang>=9.0.1 in c:\\users\\maxbe\\appdata\\local\\programs\\python\\python39\\lib\\site-packages (from tensorflow<2.8,>=2.7.0->tensorflow-text) (12.0.0)\n",
      "Requirement already satisfied: flatbuffers<3.0,>=1.12 in c:\\users\\maxbe\\appdata\\roaming\\python\\python39\\site-packages (from tensorflow<2.8,>=2.7.0->tensorflow-text) (1.12)\n",
      "Requirement already satisfied: requests<3,>=2.21.0 in c:\\users\\maxbe\\appdata\\local\\programs\\python\\python39\\lib\\site-packages (from tensorboard~=2.6->tensorflow<2.8,>=2.7.0->tensorflow-text) (2.26.0)\n",
      "Requirement already satisfied: google-auth<3,>=1.6.3 in c:\\users\\maxbe\\appdata\\local\\programs\\python\\python39\\lib\\site-packages (from tensorboard~=2.6->tensorflow<2.8,>=2.7.0->tensorflow-text) (2.3.3)\n",
      "Requirement already satisfied: google-auth-oauthlib<0.5,>=0.4.1 in c:\\users\\maxbe\\appdata\\local\\programs\\python\\python39\\lib\\site-packages (from tensorboard~=2.6->tensorflow<2.8,>=2.7.0->tensorflow-text) (0.4.6)\n",
      "Requirement already satisfied: werkzeug>=0.11.15 in c:\\users\\maxbe\\appdata\\local\\programs\\python\\python39\\lib\\site-packages (from tensorboard~=2.6->tensorflow<2.8,>=2.7.0->tensorflow-text) (2.0.2)\n",
      "Requirement already satisfied: setuptools>=41.0.0 in c:\\users\\maxbe\\appdata\\local\\programs\\python\\python39\\lib\\site-packages (from tensorboard~=2.6->tensorflow<2.8,>=2.7.0->tensorflow-text) (58.2.0)\n",
      "Requirement already satisfied: tensorboard-data-server<0.7.0,>=0.6.0 in c:\\users\\maxbe\\appdata\\local\\programs\\python\\python39\\lib\\site-packages (from tensorboard~=2.6->tensorflow<2.8,>=2.7.0->tensorflow-text) (0.6.1)\n",
      "Requirement already satisfied: tensorboard-plugin-wit>=1.6.0 in c:\\users\\maxbe\\appdata\\local\\programs\\python\\python39\\lib\\site-packages (from tensorboard~=2.6->tensorflow<2.8,>=2.7.0->tensorflow-text) (1.8.0)\n",
      "Requirement already satisfied: markdown>=2.6.8 in c:\\users\\maxbe\\appdata\\local\\programs\\python\\python39\\lib\\site-packages (from tensorboard~=2.6->tensorflow<2.8,>=2.7.0->tensorflow-text) (3.3.4)\n",
      "Requirement already satisfied: cachetools<5.0,>=2.0.0 in c:\\users\\maxbe\\appdata\\local\\programs\\python\\python39\\lib\\site-packages (from google-auth<3,>=1.6.3->tensorboard~=2.6->tensorflow<2.8,>=2.7.0->tensorflow-text) (4.2.4)\n",
      "Requirement already satisfied: pyasn1-modules>=0.2.1 in c:\\users\\maxbe\\appdata\\local\\programs\\python\\python39\\lib\\site-packages (from google-auth<3,>=1.6.3->tensorboard~=2.6->tensorflow<2.8,>=2.7.0->tensorflow-text) (0.2.8)\n",
      "Requirement already satisfied: rsa<5,>=3.1.4 in c:\\users\\maxbe\\appdata\\local\\programs\\python\\python39\\lib\\site-packages (from google-auth<3,>=1.6.3->tensorboard~=2.6->tensorflow<2.8,>=2.7.0->tensorflow-text) (4.7.2)\n",
      "Requirement already satisfied: requests-oauthlib>=0.7.0 in c:\\users\\maxbe\\appdata\\local\\programs\\python\\python39\\lib\\site-packages (from google-auth-oauthlib<0.5,>=0.4.1->tensorboard~=2.6->tensorflow<2.8,>=2.7.0->tensorflow-text) (1.3.0)\n",
      "Requirement already satisfied: certifi>=2017.4.17 in c:\\users\\maxbe\\appdata\\local\\programs\\python\\python39\\lib\\site-packages (from requests<3,>=2.21.0->tensorboard~=2.6->tensorflow<2.8,>=2.7.0->tensorflow-text) (2021.10.8)\n",
      "Requirement already satisfied: urllib3<1.27,>=1.21.1 in c:\\users\\maxbe\\appdata\\local\\programs\\python\\python39\\lib\\site-packages (from requests<3,>=2.21.0->tensorboard~=2.6->tensorflow<2.8,>=2.7.0->tensorflow-text) (1.26.4)\n",
      "Requirement already satisfied: charset-normalizer~=2.0.0 in c:\\users\\maxbe\\appdata\\local\\programs\\python\\python39\\lib\\site-packages (from requests<3,>=2.21.0->tensorboard~=2.6->tensorflow<2.8,>=2.7.0->tensorflow-text) (2.0.7)\n",
      "Requirement already satisfied: idna<4,>=2.5 in c:\\users\\maxbe\\appdata\\local\\programs\\python\\python39\\lib\\site-packages (from requests<3,>=2.21.0->tensorboard~=2.6->tensorflow<2.8,>=2.7.0->tensorflow-text) (3.3)\n",
      "Requirement already satisfied: pyasn1<0.5.0,>=0.4.6 in c:\\users\\maxbe\\appdata\\local\\programs\\python\\python39\\lib\\site-packages (from pyasn1-modules>=0.2.1->google-auth<3,>=1.6.3->tensorboard~=2.6->tensorflow<2.8,>=2.7.0->tensorflow-text) (0.4.8)\n",
      "Requirement already satisfied: oauthlib>=3.0.0 in c:\\users\\maxbe\\appdata\\local\\programs\\python\\python39\\lib\\site-packages (from requests-oauthlib>=0.7.0->google-auth-oauthlib<0.5,>=0.4.1->tensorboard~=2.6->tensorflow<2.8,>=2.7.0->tensorflow-text) (3.1.1)\n",
      "Installing collected packages: tensorflow-hub, tensorflow-text\n",
      "Successfully installed tensorflow-hub-0.12.0 tensorflow-text-2.7.3\n"
     ]
    }
   ],
   "source": [
    "!pip install tensorflow_datasets\n",
    "!pip install -U tensorflow-text"
   ]
  },
  {
   "cell_type": "code",
   "execution_count": 3,
   "metadata": {
    "execution": {
     "iopub.execute_input": "2021-11-02T15:32:04.276111Z",
     "iopub.status.busy": "2021-11-02T15:32:04.274980Z",
     "iopub.status.idle": "2021-11-02T15:32:07.292522Z",
     "shell.execute_reply": "2021-11-02T15:32:07.291763Z"
    },
    "id": "JjJJyJTZYebt"
   },
   "outputs": [],
   "source": [
    "import collections\n",
    "import logging\n",
    "import os\n",
    "import pathlib\n",
    "import re\n",
    "import string\n",
    "import sys\n",
    "import time\n",
    "\n",
    "import numpy as np\n",
    "import matplotlib.pyplot as plt\n",
    "\n",
    "import tensorflow_datasets as tfds\n",
    "import tensorflow_text as text\n",
    "import tensorflow as tf"
   ]
  },
  {
   "cell_type": "code",
   "execution_count": 4,
   "metadata": {
    "execution": {
     "iopub.execute_input": "2021-11-02T15:32:07.298131Z",
     "iopub.status.busy": "2021-11-02T15:32:07.297142Z",
     "iopub.status.idle": "2021-11-02T15:32:07.299550Z",
     "shell.execute_reply": "2021-11-02T15:32:07.299113Z"
    },
    "id": "pXzVhU34zWEU"
   },
   "outputs": [],
   "source": [
    "logging.getLogger('tensorflow').setLevel(logging.ERROR)  # suppress warnings"
   ]
  },
  {
   "cell_type": "markdown",
   "metadata": {
    "id": "-cCvXbPkccV1"
   },
   "source": [
    "## Download the Dataset"
   ]
  },
  {
   "cell_type": "markdown",
   "metadata": {
    "id": "t4_Qt8W1hJE_"
   },
   "source": [
    "Use [TensorFlow datasets](https://www.tensorflow.org/datasets) to load the [Portuguese-English translation dataset](https://github.com/neulab/word-embeddings-for-nmt) from the [TED Talks Open Translation Project](https://www.ted.com/participate/translate).\n",
    "\n",
    "This dataset contains approximately 50000 training examples, 1100 validation examples, and 2000 test examples."
   ]
  },
  {
   "cell_type": "code",
   "execution_count": 5,
   "metadata": {
    "execution": {
     "iopub.execute_input": "2021-11-02T15:32:07.304707Z",
     "iopub.status.busy": "2021-11-02T15:32:07.304051Z",
     "iopub.status.idle": "2021-11-02T15:32:12.136198Z",
     "shell.execute_reply": "2021-11-02T15:32:12.135563Z"
    },
    "id": "8q9t4FmN96eN"
   },
   "outputs": [
    {
     "name": "stdout",
     "output_type": "stream",
     "text": [
      "\u001b[1mDownloading and preparing dataset Unknown size (download: Unknown size, generated: Unknown size, total: Unknown size) to C:\\Users\\maxbe\\tensorflow_datasets\\ted_hrlr_translate\\pt_to_en\\1.0.0...\u001b[0m\n"
     ]
    },
    {
     "ename": "ImportError",
     "evalue": "IProgress not found. Please update jupyter and ipywidgets. See https://ipywidgets.readthedocs.io/en/stable/user_install.html",
     "output_type": "error",
     "traceback": [
      "\u001b[1;31m---------------------------------------------------------------------------\u001b[0m",
      "\u001b[1;31mImportError\u001b[0m                               Traceback (most recent call last)",
      "\u001b[1;32m~\\AppData\\Local\\Temp/ipykernel_16916/22227703.py\u001b[0m in \u001b[0;36m<module>\u001b[1;34m\u001b[0m\n\u001b[1;32m----> 1\u001b[1;33m examples, metadata = tfds.load('ted_hrlr_translate/pt_to_en', with_info=True,\n\u001b[0m\u001b[0;32m      2\u001b[0m                                as_supervised=True)\n\u001b[0;32m      3\u001b[0m \u001b[0mtrain_examples\u001b[0m\u001b[1;33m,\u001b[0m \u001b[0mval_examples\u001b[0m \u001b[1;33m=\u001b[0m \u001b[0mexamples\u001b[0m\u001b[1;33m[\u001b[0m\u001b[1;34m'train'\u001b[0m\u001b[1;33m]\u001b[0m\u001b[1;33m,\u001b[0m \u001b[0mexamples\u001b[0m\u001b[1;33m[\u001b[0m\u001b[1;34m'validation'\u001b[0m\u001b[1;33m]\u001b[0m\u001b[1;33m\u001b[0m\u001b[1;33m\u001b[0m\u001b[0m\n",
      "\u001b[1;32mc:\\users\\maxbe\\appdata\\local\\programs\\python\\python39\\lib\\site-packages\\tensorflow_datasets\\core\\load.py\u001b[0m in \u001b[0;36mload\u001b[1;34m(name, split, data_dir, batch_size, shuffle_files, download, as_supervised, decoders, read_config, with_info, builder_kwargs, download_and_prepare_kwargs, as_dataset_kwargs, try_gcs)\u001b[0m\n\u001b[0;32m    316\u001b[0m   \u001b[1;32mif\u001b[0m \u001b[0mdownload\u001b[0m\u001b[1;33m:\u001b[0m\u001b[1;33m\u001b[0m\u001b[1;33m\u001b[0m\u001b[0m\n\u001b[0;32m    317\u001b[0m     \u001b[0mdownload_and_prepare_kwargs\u001b[0m \u001b[1;33m=\u001b[0m \u001b[0mdownload_and_prepare_kwargs\u001b[0m \u001b[1;32mor\u001b[0m \u001b[1;33m{\u001b[0m\u001b[1;33m}\u001b[0m\u001b[1;33m\u001b[0m\u001b[1;33m\u001b[0m\u001b[0m\n\u001b[1;32m--> 318\u001b[1;33m     \u001b[0mdbuilder\u001b[0m\u001b[1;33m.\u001b[0m\u001b[0mdownload_and_prepare\u001b[0m\u001b[1;33m(\u001b[0m\u001b[1;33m**\u001b[0m\u001b[0mdownload_and_prepare_kwargs\u001b[0m\u001b[1;33m)\u001b[0m\u001b[1;33m\u001b[0m\u001b[1;33m\u001b[0m\u001b[0m\n\u001b[0m\u001b[0;32m    319\u001b[0m \u001b[1;33m\u001b[0m\u001b[0m\n\u001b[0;32m    320\u001b[0m   \u001b[1;32mif\u001b[0m \u001b[0mas_dataset_kwargs\u001b[0m \u001b[1;32mis\u001b[0m \u001b[1;32mNone\u001b[0m\u001b[1;33m:\u001b[0m\u001b[1;33m\u001b[0m\u001b[1;33m\u001b[0m\u001b[0m\n",
      "\u001b[1;32mc:\\users\\maxbe\\appdata\\local\\programs\\python\\python39\\lib\\site-packages\\tensorflow_datasets\\core\\dataset_builder.py\u001b[0m in \u001b[0;36mdownload_and_prepare\u001b[1;34m(self, download_dir, download_config)\u001b[0m\n\u001b[0;32m    437\u001b[0m           \u001b[1;31m# Old version of TF are not os.PathLike compatible\u001b[0m\u001b[1;33m\u001b[0m\u001b[1;33m\u001b[0m\u001b[0m\n\u001b[0;32m    438\u001b[0m           \u001b[1;32mwith\u001b[0m \u001b[0mtf_compat\u001b[0m\u001b[1;33m.\u001b[0m\u001b[0mmock_gfile_pathlike\u001b[0m\u001b[1;33m(\u001b[0m\u001b[1;33m)\u001b[0m\u001b[1;33m:\u001b[0m\u001b[1;33m\u001b[0m\u001b[1;33m\u001b[0m\u001b[0m\n\u001b[1;32m--> 439\u001b[1;33m             self._download_and_prepare(\n\u001b[0m\u001b[0;32m    440\u001b[0m                 \u001b[0mdl_manager\u001b[0m\u001b[1;33m=\u001b[0m\u001b[0mdl_manager\u001b[0m\u001b[1;33m,\u001b[0m\u001b[1;33m\u001b[0m\u001b[1;33m\u001b[0m\u001b[0m\n\u001b[0;32m    441\u001b[0m                 \u001b[0mdownload_config\u001b[0m\u001b[1;33m=\u001b[0m\u001b[0mdownload_config\u001b[0m\u001b[1;33m,\u001b[0m\u001b[1;33m\u001b[0m\u001b[1;33m\u001b[0m\u001b[0m\n",
      "\u001b[1;32mc:\\users\\maxbe\\appdata\\local\\programs\\python\\python39\\lib\\site-packages\\tensorflow_datasets\\core\\dataset_builder.py\u001b[0m in \u001b[0;36m_download_and_prepare\u001b[1;34m(self, dl_manager, download_config)\u001b[0m\n\u001b[0;32m   1111\u001b[0m       \u001b[1;32melse\u001b[0m\u001b[1;33m:\u001b[0m\u001b[1;33m\u001b[0m\u001b[1;33m\u001b[0m\u001b[0m\n\u001b[0;32m   1112\u001b[0m         \u001b[0moptional_pipeline_kwargs\u001b[0m \u001b[1;33m=\u001b[0m \u001b[1;33m{\u001b[0m\u001b[1;33m}\u001b[0m\u001b[1;33m\u001b[0m\u001b[1;33m\u001b[0m\u001b[0m\n\u001b[1;32m-> 1113\u001b[1;33m       split_generators = self._split_generators(  # pylint: disable=unexpected-keyword-arg\n\u001b[0m\u001b[0;32m   1114\u001b[0m           dl_manager, **optional_pipeline_kwargs)\n\u001b[0;32m   1115\u001b[0m       \u001b[1;31m# TODO(tfds): Could be removed once all datasets are migrated.\u001b[0m\u001b[1;33m\u001b[0m\u001b[1;33m\u001b[0m\u001b[0m\n",
      "\u001b[1;32mc:\\users\\maxbe\\appdata\\local\\programs\\python\\python39\\lib\\site-packages\\tensorflow_datasets\\translate\\ted_hrlr.py\u001b[0m in \u001b[0;36m_split_generators\u001b[1;34m(self, dl_manager)\u001b[0m\n\u001b[0;32m    119\u001b[0m \u001b[1;33m\u001b[0m\u001b[0m\n\u001b[0;32m    120\u001b[0m   \u001b[1;32mdef\u001b[0m \u001b[0m_split_generators\u001b[0m\u001b[1;33m(\u001b[0m\u001b[0mself\u001b[0m\u001b[1;33m,\u001b[0m \u001b[0mdl_manager\u001b[0m\u001b[1;33m)\u001b[0m\u001b[1;33m:\u001b[0m\u001b[1;33m\u001b[0m\u001b[1;33m\u001b[0m\u001b[0m\n\u001b[1;32m--> 121\u001b[1;33m     \u001b[0mdl_dir\u001b[0m \u001b[1;33m=\u001b[0m \u001b[0mdl_manager\u001b[0m\u001b[1;33m.\u001b[0m\u001b[0mdownload_and_extract\u001b[0m\u001b[1;33m(\u001b[0m\u001b[0m_DATA_URL\u001b[0m\u001b[1;33m)\u001b[0m\u001b[1;33m\u001b[0m\u001b[1;33m\u001b[0m\u001b[0m\n\u001b[0m\u001b[0;32m    122\u001b[0m     \u001b[0msource\u001b[0m\u001b[1;33m,\u001b[0m \u001b[0mtarget\u001b[0m \u001b[1;33m=\u001b[0m \u001b[0mself\u001b[0m\u001b[1;33m.\u001b[0m\u001b[0mbuilder_config\u001b[0m\u001b[1;33m.\u001b[0m\u001b[0mlanguage_pair\u001b[0m\u001b[1;33m\u001b[0m\u001b[1;33m\u001b[0m\u001b[0m\n\u001b[0;32m    123\u001b[0m \u001b[1;33m\u001b[0m\u001b[0m\n",
      "\u001b[1;32mc:\\users\\maxbe\\appdata\\local\\programs\\python\\python39\\lib\\site-packages\\tensorflow_datasets\\core\\download\\download_manager.py\u001b[0m in \u001b[0;36mdownload_and_extract\u001b[1;34m(self, url_or_urls)\u001b[0m\n\u001b[0;32m    630\u001b[0m     \"\"\"\n\u001b[0;32m    631\u001b[0m     \u001b[1;31m# Add progress bar to follow the download state\u001b[0m\u001b[1;33m\u001b[0m\u001b[1;33m\u001b[0m\u001b[0m\n\u001b[1;32m--> 632\u001b[1;33m     \u001b[1;32mwith\u001b[0m \u001b[0mself\u001b[0m\u001b[1;33m.\u001b[0m\u001b[0m_downloader\u001b[0m\u001b[1;33m.\u001b[0m\u001b[0mtqdm\u001b[0m\u001b[1;33m(\u001b[0m\u001b[1;33m)\u001b[0m\u001b[1;33m:\u001b[0m\u001b[1;33m\u001b[0m\u001b[1;33m\u001b[0m\u001b[0m\n\u001b[0m\u001b[0;32m    633\u001b[0m       \u001b[1;32mwith\u001b[0m \u001b[0mself\u001b[0m\u001b[1;33m.\u001b[0m\u001b[0m_extractor\u001b[0m\u001b[1;33m.\u001b[0m\u001b[0mtqdm\u001b[0m\u001b[1;33m(\u001b[0m\u001b[1;33m)\u001b[0m\u001b[1;33m:\u001b[0m\u001b[1;33m\u001b[0m\u001b[1;33m\u001b[0m\u001b[0m\n\u001b[0;32m    634\u001b[0m         \u001b[1;32mreturn\u001b[0m \u001b[0m_map_promise\u001b[0m\u001b[1;33m(\u001b[0m\u001b[0mself\u001b[0m\u001b[1;33m.\u001b[0m\u001b[0m_download_extract\u001b[0m\u001b[1;33m,\u001b[0m \u001b[0murl_or_urls\u001b[0m\u001b[1;33m)\u001b[0m\u001b[1;33m\u001b[0m\u001b[1;33m\u001b[0m\u001b[0m\n",
      "\u001b[1;32mc:\\users\\maxbe\\appdata\\local\\programs\\python\\python39\\lib\\contextlib.py\u001b[0m in \u001b[0;36m__enter__\u001b[1;34m(self)\u001b[0m\n\u001b[0;32m    117\u001b[0m         \u001b[1;32mdel\u001b[0m \u001b[0mself\u001b[0m\u001b[1;33m.\u001b[0m\u001b[0margs\u001b[0m\u001b[1;33m,\u001b[0m \u001b[0mself\u001b[0m\u001b[1;33m.\u001b[0m\u001b[0mkwds\u001b[0m\u001b[1;33m,\u001b[0m \u001b[0mself\u001b[0m\u001b[1;33m.\u001b[0m\u001b[0mfunc\u001b[0m\u001b[1;33m\u001b[0m\u001b[1;33m\u001b[0m\u001b[0m\n\u001b[0;32m    118\u001b[0m         \u001b[1;32mtry\u001b[0m\u001b[1;33m:\u001b[0m\u001b[1;33m\u001b[0m\u001b[1;33m\u001b[0m\u001b[0m\n\u001b[1;32m--> 119\u001b[1;33m             \u001b[1;32mreturn\u001b[0m \u001b[0mnext\u001b[0m\u001b[1;33m(\u001b[0m\u001b[0mself\u001b[0m\u001b[1;33m.\u001b[0m\u001b[0mgen\u001b[0m\u001b[1;33m)\u001b[0m\u001b[1;33m\u001b[0m\u001b[1;33m\u001b[0m\u001b[0m\n\u001b[0m\u001b[0;32m    120\u001b[0m         \u001b[1;32mexcept\u001b[0m \u001b[0mStopIteration\u001b[0m\u001b[1;33m:\u001b[0m\u001b[1;33m\u001b[0m\u001b[1;33m\u001b[0m\u001b[0m\n\u001b[0;32m    121\u001b[0m             \u001b[1;32mraise\u001b[0m \u001b[0mRuntimeError\u001b[0m\u001b[1;33m(\u001b[0m\u001b[1;34m\"generator didn't yield\"\u001b[0m\u001b[1;33m)\u001b[0m \u001b[1;32mfrom\u001b[0m \u001b[1;32mNone\u001b[0m\u001b[1;33m\u001b[0m\u001b[1;33m\u001b[0m\u001b[0m\n",
      "\u001b[1;32mc:\\users\\maxbe\\appdata\\local\\programs\\python\\python39\\lib\\site-packages\\tensorflow_datasets\\core\\download\\downloader.py\u001b[0m in \u001b[0;36mtqdm\u001b[1;34m(self)\u001b[0m\n\u001b[0;32m    130\u001b[0m     \u001b[1;34m\"\"\"Add a progression bar for the current download.\"\"\"\u001b[0m\u001b[1;33m\u001b[0m\u001b[1;33m\u001b[0m\u001b[0m\n\u001b[0;32m    131\u001b[0m     \u001b[0masync_tqdm\u001b[0m \u001b[1;33m=\u001b[0m \u001b[0mutils\u001b[0m\u001b[1;33m.\u001b[0m\u001b[0masync_tqdm\u001b[0m\u001b[1;33m\u001b[0m\u001b[1;33m\u001b[0m\u001b[0m\n\u001b[1;32m--> 132\u001b[1;33m     \u001b[1;32mwith\u001b[0m \u001b[0masync_tqdm\u001b[0m\u001b[1;33m(\u001b[0m\u001b[0mtotal\u001b[0m\u001b[1;33m=\u001b[0m\u001b[1;36m0\u001b[0m\u001b[1;33m,\u001b[0m \u001b[0mdesc\u001b[0m\u001b[1;33m=\u001b[0m\u001b[1;34m'Dl Completed...'\u001b[0m\u001b[1;33m,\u001b[0m \u001b[0munit\u001b[0m\u001b[1;33m=\u001b[0m\u001b[1;34m' url'\u001b[0m\u001b[1;33m)\u001b[0m \u001b[1;32mas\u001b[0m \u001b[0mpbar_url\u001b[0m\u001b[1;33m:\u001b[0m\u001b[1;33m\u001b[0m\u001b[1;33m\u001b[0m\u001b[0m\n\u001b[0m\u001b[0;32m    133\u001b[0m       \u001b[1;32mwith\u001b[0m \u001b[0masync_tqdm\u001b[0m\u001b[1;33m(\u001b[0m\u001b[0mtotal\u001b[0m\u001b[1;33m=\u001b[0m\u001b[1;36m0\u001b[0m\u001b[1;33m,\u001b[0m \u001b[0mdesc\u001b[0m\u001b[1;33m=\u001b[0m\u001b[1;34m'Dl Size...'\u001b[0m\u001b[1;33m,\u001b[0m \u001b[0munit\u001b[0m\u001b[1;33m=\u001b[0m\u001b[1;34m' MiB'\u001b[0m\u001b[1;33m)\u001b[0m \u001b[1;32mas\u001b[0m \u001b[0mpbar_dl_size\u001b[0m\u001b[1;33m:\u001b[0m\u001b[1;33m\u001b[0m\u001b[1;33m\u001b[0m\u001b[0m\n\u001b[0;32m    134\u001b[0m         \u001b[0mself\u001b[0m\u001b[1;33m.\u001b[0m\u001b[0m_pbar_url\u001b[0m \u001b[1;33m=\u001b[0m \u001b[0mpbar_url\u001b[0m\u001b[1;33m\u001b[0m\u001b[1;33m\u001b[0m\u001b[0m\n",
      "\u001b[1;32mc:\\users\\maxbe\\appdata\\local\\programs\\python\\python39\\lib\\contextlib.py\u001b[0m in \u001b[0;36m__enter__\u001b[1;34m(self)\u001b[0m\n\u001b[0;32m    117\u001b[0m         \u001b[1;32mdel\u001b[0m \u001b[0mself\u001b[0m\u001b[1;33m.\u001b[0m\u001b[0margs\u001b[0m\u001b[1;33m,\u001b[0m \u001b[0mself\u001b[0m\u001b[1;33m.\u001b[0m\u001b[0mkwds\u001b[0m\u001b[1;33m,\u001b[0m \u001b[0mself\u001b[0m\u001b[1;33m.\u001b[0m\u001b[0mfunc\u001b[0m\u001b[1;33m\u001b[0m\u001b[1;33m\u001b[0m\u001b[0m\n\u001b[0;32m    118\u001b[0m         \u001b[1;32mtry\u001b[0m\u001b[1;33m:\u001b[0m\u001b[1;33m\u001b[0m\u001b[1;33m\u001b[0m\u001b[0m\n\u001b[1;32m--> 119\u001b[1;33m             \u001b[1;32mreturn\u001b[0m \u001b[0mnext\u001b[0m\u001b[1;33m(\u001b[0m\u001b[0mself\u001b[0m\u001b[1;33m.\u001b[0m\u001b[0mgen\u001b[0m\u001b[1;33m)\u001b[0m\u001b[1;33m\u001b[0m\u001b[1;33m\u001b[0m\u001b[0m\n\u001b[0m\u001b[0;32m    120\u001b[0m         \u001b[1;32mexcept\u001b[0m \u001b[0mStopIteration\u001b[0m\u001b[1;33m:\u001b[0m\u001b[1;33m\u001b[0m\u001b[1;33m\u001b[0m\u001b[0m\n\u001b[0;32m    121\u001b[0m             \u001b[1;32mraise\u001b[0m \u001b[0mRuntimeError\u001b[0m\u001b[1;33m(\u001b[0m\u001b[1;34m\"generator didn't yield\"\u001b[0m\u001b[1;33m)\u001b[0m \u001b[1;32mfrom\u001b[0m \u001b[1;32mNone\u001b[0m\u001b[1;33m\u001b[0m\u001b[1;33m\u001b[0m\u001b[0m\n",
      "\u001b[1;32mc:\\users\\maxbe\\appdata\\local\\programs\\python\\python39\\lib\\site-packages\\tensorflow_datasets\\core\\utils\\tqdm_utils.py\u001b[0m in \u001b[0;36m_async_tqdm\u001b[1;34m(*args, **kwargs)\u001b[0m\n\u001b[0;32m    146\u001b[0m     \u001b[0mpbar\u001b[0m\u001b[1;33m:\u001b[0m \u001b[0mAsync\u001b[0m \u001b[0mpbar\u001b[0m \u001b[0mwhich\u001b[0m \u001b[0mcan\u001b[0m \u001b[0mbe\u001b[0m \u001b[0mshared\u001b[0m \u001b[0mbetween\u001b[0m \u001b[0mthreads\u001b[0m\u001b[1;33m.\u001b[0m\u001b[1;33m\u001b[0m\u001b[1;33m\u001b[0m\u001b[0m\n\u001b[0;32m    147\u001b[0m   \"\"\"\n\u001b[1;32m--> 148\u001b[1;33m   \u001b[1;32mwith\u001b[0m \u001b[0mtqdm_lib\u001b[0m\u001b[1;33m.\u001b[0m\u001b[0mtqdm\u001b[0m\u001b[1;33m(\u001b[0m\u001b[1;33m*\u001b[0m\u001b[0margs\u001b[0m\u001b[1;33m,\u001b[0m \u001b[1;33m**\u001b[0m\u001b[0mkwargs\u001b[0m\u001b[1;33m)\u001b[0m \u001b[1;32mas\u001b[0m \u001b[0mpbar\u001b[0m\u001b[1;33m:\u001b[0m\u001b[1;33m\u001b[0m\u001b[1;33m\u001b[0m\u001b[0m\n\u001b[0m\u001b[0;32m    149\u001b[0m     \u001b[0mpbar\u001b[0m \u001b[1;33m=\u001b[0m \u001b[0m_TqdmPbarAsync\u001b[0m\u001b[1;33m(\u001b[0m\u001b[0mpbar\u001b[0m\u001b[1;33m)\u001b[0m\u001b[1;33m\u001b[0m\u001b[1;33m\u001b[0m\u001b[0m\n\u001b[0;32m    150\u001b[0m     \u001b[1;32myield\u001b[0m \u001b[0mpbar\u001b[0m\u001b[1;33m\u001b[0m\u001b[1;33m\u001b[0m\u001b[0m\n",
      "\u001b[1;32mc:\\users\\maxbe\\appdata\\local\\programs\\python\\python39\\lib\\site-packages\\tqdm\\notebook.py\u001b[0m in \u001b[0;36m__init__\u001b[1;34m(self, *args, **kwargs)\u001b[0m\n\u001b[0;32m    240\u001b[0m         \u001b[0munit_scale\u001b[0m \u001b[1;33m=\u001b[0m \u001b[1;36m1\u001b[0m \u001b[1;32mif\u001b[0m \u001b[0mself\u001b[0m\u001b[1;33m.\u001b[0m\u001b[0munit_scale\u001b[0m \u001b[1;32mis\u001b[0m \u001b[1;32mTrue\u001b[0m \u001b[1;32melse\u001b[0m \u001b[0mself\u001b[0m\u001b[1;33m.\u001b[0m\u001b[0munit_scale\u001b[0m \u001b[1;32mor\u001b[0m \u001b[1;36m1\u001b[0m\u001b[1;33m\u001b[0m\u001b[1;33m\u001b[0m\u001b[0m\n\u001b[0;32m    241\u001b[0m         \u001b[0mtotal\u001b[0m \u001b[1;33m=\u001b[0m \u001b[0mself\u001b[0m\u001b[1;33m.\u001b[0m\u001b[0mtotal\u001b[0m \u001b[1;33m*\u001b[0m \u001b[0munit_scale\u001b[0m \u001b[1;32mif\u001b[0m \u001b[0mself\u001b[0m\u001b[1;33m.\u001b[0m\u001b[0mtotal\u001b[0m \u001b[1;32melse\u001b[0m \u001b[0mself\u001b[0m\u001b[1;33m.\u001b[0m\u001b[0mtotal\u001b[0m\u001b[1;33m\u001b[0m\u001b[1;33m\u001b[0m\u001b[0m\n\u001b[1;32m--> 242\u001b[1;33m         \u001b[0mself\u001b[0m\u001b[1;33m.\u001b[0m\u001b[0mcontainer\u001b[0m \u001b[1;33m=\u001b[0m \u001b[0mself\u001b[0m\u001b[1;33m.\u001b[0m\u001b[0mstatus_printer\u001b[0m\u001b[1;33m(\u001b[0m\u001b[0mself\u001b[0m\u001b[1;33m.\u001b[0m\u001b[0mfp\u001b[0m\u001b[1;33m,\u001b[0m \u001b[0mtotal\u001b[0m\u001b[1;33m,\u001b[0m \u001b[0mself\u001b[0m\u001b[1;33m.\u001b[0m\u001b[0mdesc\u001b[0m\u001b[1;33m,\u001b[0m \u001b[0mself\u001b[0m\u001b[1;33m.\u001b[0m\u001b[0mncols\u001b[0m\u001b[1;33m)\u001b[0m\u001b[1;33m\u001b[0m\u001b[1;33m\u001b[0m\u001b[0m\n\u001b[0m\u001b[0;32m    243\u001b[0m         \u001b[0mself\u001b[0m\u001b[1;33m.\u001b[0m\u001b[0mcontainer\u001b[0m\u001b[1;33m.\u001b[0m\u001b[0mpbar\u001b[0m \u001b[1;33m=\u001b[0m \u001b[0mproxy\u001b[0m\u001b[1;33m(\u001b[0m\u001b[0mself\u001b[0m\u001b[1;33m)\u001b[0m\u001b[1;33m\u001b[0m\u001b[1;33m\u001b[0m\u001b[0m\n\u001b[0;32m    244\u001b[0m         \u001b[0mself\u001b[0m\u001b[1;33m.\u001b[0m\u001b[0mdisplayed\u001b[0m \u001b[1;33m=\u001b[0m \u001b[1;32mFalse\u001b[0m\u001b[1;33m\u001b[0m\u001b[1;33m\u001b[0m\u001b[0m\n",
      "\u001b[1;32mc:\\users\\maxbe\\appdata\\local\\programs\\python\\python39\\lib\\site-packages\\tqdm\\notebook.py\u001b[0m in \u001b[0;36mstatus_printer\u001b[1;34m(_, total, desc, ncols)\u001b[0m\n\u001b[0;32m    113\u001b[0m         \u001b[1;31m# Prepare IPython progress bar\u001b[0m\u001b[1;33m\u001b[0m\u001b[1;33m\u001b[0m\u001b[0m\n\u001b[0;32m    114\u001b[0m         \u001b[1;32mif\u001b[0m \u001b[0mIProgress\u001b[0m \u001b[1;32mis\u001b[0m \u001b[1;32mNone\u001b[0m\u001b[1;33m:\u001b[0m  \u001b[1;31m# #187 #451 #558 #872\u001b[0m\u001b[1;33m\u001b[0m\u001b[1;33m\u001b[0m\u001b[0m\n\u001b[1;32m--> 115\u001b[1;33m             raise ImportError(\n\u001b[0m\u001b[0;32m    116\u001b[0m                 \u001b[1;34m\"IProgress not found. Please update jupyter and ipywidgets.\"\u001b[0m\u001b[1;33m\u001b[0m\u001b[1;33m\u001b[0m\u001b[0m\n\u001b[0;32m    117\u001b[0m                 \u001b[1;34m\" See https://ipywidgets.readthedocs.io/en/stable\"\u001b[0m\u001b[1;33m\u001b[0m\u001b[1;33m\u001b[0m\u001b[0m\n",
      "\u001b[1;31mImportError\u001b[0m: IProgress not found. Please update jupyter and ipywidgets. See https://ipywidgets.readthedocs.io/en/stable/user_install.html"
     ]
    }
   ],
   "source": [
    "examples, metadata = tfds.load('ted_hrlr_translate/pt_to_en', with_info=True,\n",
    "                               as_supervised=True)\n",
    "train_examples, val_examples = examples['train'], examples['validation']"
   ]
  },
  {
   "cell_type": "markdown",
   "metadata": {
    "id": "1OnwQZ2IpTbl"
   },
   "source": [
    "The `tf.data.Dataset` object returned by TensorFlow datasets yields pairs of text examples:"
   ]
  },
  {
   "cell_type": "code",
   "execution_count": 6,
   "metadata": {
    "execution": {
     "iopub.execute_input": "2021-11-02T15:32:12.143444Z",
     "iopub.status.busy": "2021-11-02T15:32:12.142311Z",
     "iopub.status.idle": "2021-11-02T15:32:12.549360Z",
     "shell.execute_reply": "2021-11-02T15:32:12.548823Z"
    },
    "id": "AtuMLTQGlHZ1"
   },
   "outputs": [
    {
     "name": "stdout",
     "output_type": "stream",
     "text": [
      "e quando melhoramos a procura , tiramos a única vantagem da impressão , que é a serendipidade .\n",
      "mas e se estes fatores fossem ativos ?\n",
      "mas eles não tinham a curiosidade de me testar .\n",
      "\n",
      "and when you improve searchability , you actually take away the one advantage of print , which is serendipity .\n",
      "but what if it were active ?\n",
      "but they did n't test for curiosity .\n"
     ]
    }
   ],
   "source": [
    "for pt_examples, en_examples in train_examples.batch(3).take(1):\n",
    "  for pt in pt_examples.numpy():\n",
    "    print(pt.decode('utf-8'))\n",
    "\n",
    "  print()\n",
    "\n",
    "  for en in en_examples.numpy():\n",
    "    print(en.decode('utf-8'))"
   ]
  },
  {
   "cell_type": "markdown",
   "metadata": {
    "id": "eJxTd6aVnZyh"
   },
   "source": [
    "## Text tokenization & detokenization"
   ]
  },
  {
   "cell_type": "markdown",
   "metadata": {
    "id": "WlHAFNaopq6U"
   },
   "source": [
    "You can't train a model directly on text. The text needs to be converted to some numeric representation first. Typically, you convert the text to sequences of token IDs, which are used as indices into an embedding."
   ]
  },
  {
   "cell_type": "markdown",
   "metadata": {
    "id": "2sPvbCEePzOC"
   },
   "source": [
    "One popular implementation is demonstrated in the [Subword tokenizer tutorial](https://www.tensorflow.org/text/guide/subwords_tokenizer) builds subword tokenizers (`text.BertTokenizer`) optimized for this dataset and exports them in a [saved_model](https://www.tensorflow.org/guide/saved_model). \n",
    "\n",
    "Download and unzip and import the `saved_model`:"
   ]
  },
  {
   "cell_type": "code",
   "execution_count": 7,
   "metadata": {
    "execution": {
     "iopub.execute_input": "2021-11-02T15:32:12.556005Z",
     "iopub.status.busy": "2021-11-02T15:32:12.554112Z",
     "iopub.status.idle": "2021-11-02T15:32:12.756996Z",
     "shell.execute_reply": "2021-11-02T15:32:12.757445Z"
    },
    "id": "QToMl0NanZPr"
   },
   "outputs": [
    {
     "name": "stdout",
     "output_type": "stream",
     "text": [
      "Downloading data from https://storage.googleapis.com/download.tensorflow.org/models/ted_hrlr_translate_pt_en_converter.zip\n",
      "188416/184801 [==============================] - 0s 0us/step\n",
      "196608/184801 [===============================] - 0s 0us/step\n"
     ]
    },
    {
     "data": {
      "text/plain": [
       "'./ted_hrlr_translate_pt_en_converter.zip'"
      ]
     },
     "execution_count": 7,
     "metadata": {},
     "output_type": "execute_result"
    }
   ],
   "source": [
    "model_name = \"ted_hrlr_translate_pt_en_converter\"\n",
    "tf.keras.utils.get_file(\n",
    "    f\"{model_name}.zip\",\n",
    "    f\"https://storage.googleapis.com/download.tensorflow.org/models/{model_name}.zip\",\n",
    "    cache_dir='.', cache_subdir='', extract=True\n",
    ")"
   ]
  },
  {
   "cell_type": "code",
   "execution_count": 8,
   "metadata": {
    "execution": {
     "iopub.execute_input": "2021-11-02T15:32:12.763362Z",
     "iopub.status.busy": "2021-11-02T15:32:12.762225Z",
     "iopub.status.idle": "2021-11-02T15:32:13.801897Z",
     "shell.execute_reply": "2021-11-02T15:32:13.801245Z"
    },
    "id": "h5dbGnPXnuI1"
   },
   "outputs": [],
   "source": [
    "tokenizers = tf.saved_model.load(model_name)"
   ]
  },
  {
   "cell_type": "markdown",
   "metadata": {
    "id": "KQYc0CJTpnvg"
   },
   "source": [
    "The `tf.saved_model` contains two text tokenizers, one for English and one for Portuguese. Both have the same methods:"
   ]
  },
  {
   "cell_type": "code",
   "execution_count": 9,
   "metadata": {
    "execution": {
     "iopub.execute_input": "2021-11-02T15:32:13.808622Z",
     "iopub.status.busy": "2021-11-02T15:32:13.807770Z",
     "iopub.status.idle": "2021-11-02T15:32:13.810822Z",
     "shell.execute_reply": "2021-11-02T15:32:13.811282Z"
    },
    "id": "s-PCJijfcZ9_"
   },
   "outputs": [
    {
     "data": {
      "text/plain": [
       "['detokenize',\n",
       " 'get_reserved_tokens',\n",
       " 'get_vocab_path',\n",
       " 'get_vocab_size',\n",
       " 'lookup',\n",
       " 'tokenize',\n",
       " 'tokenizer',\n",
       " 'vocab']"
      ]
     },
     "execution_count": 9,
     "metadata": {},
     "output_type": "execute_result"
    }
   ],
   "source": [
    "[item for item in dir(tokenizers.en) if not item.startswith('_')]"
   ]
  },
  {
   "cell_type": "markdown",
   "metadata": {
    "id": "-pv_nc5lrAiD"
   },
   "source": [
    "The `tokenize` method converts a batch of strings to a padded-batch of token IDs. This method splits punctuation, lowercases and unicode-normalizes the input before tokenizing. That standardization is not visible here because the input data is already standardized."
   ]
  },
  {
   "cell_type": "code",
   "execution_count": 10,
   "metadata": {
    "execution": {
     "iopub.execute_input": "2021-11-02T15:32:13.816179Z",
     "iopub.status.busy": "2021-11-02T15:32:13.815362Z",
     "iopub.status.idle": "2021-11-02T15:32:13.818810Z",
     "shell.execute_reply": "2021-11-02T15:32:13.818317Z"
    },
    "id": "0GV-smAAQJtM"
   },
   "outputs": [
    {
     "name": "stdout",
     "output_type": "stream",
     "text": [
      "and when you improve searchability , you actually take away the one advantage of print , which is serendipity .\n",
      "but what if it were active ?\n",
      "but they did n't test for curiosity .\n"
     ]
    }
   ],
   "source": [
    "for en in en_examples.numpy():\n",
    "  print(en.decode('utf-8'))"
   ]
  },
  {
   "cell_type": "code",
   "execution_count": 11,
   "metadata": {
    "execution": {
     "iopub.execute_input": "2021-11-02T15:32:13.824647Z",
     "iopub.status.busy": "2021-11-02T15:32:13.823621Z",
     "iopub.status.idle": "2021-11-02T15:32:14.104437Z",
     "shell.execute_reply": "2021-11-02T15:32:14.104837Z"
    },
    "id": "2fQJq1xB-tOn"
   },
   "outputs": [
    {
     "name": "stdout",
     "output_type": "stream",
     "text": [
      "[2, 72, 117, 79, 1259, 1491, 2362, 13, 79, 150, 184, 311, 71, 103, 2308, 74, 2679, 13, 148, 80, 55, 4840, 1434, 2423, 540, 15, 3]\n",
      "[2, 87, 90, 107, 76, 129, 1852, 30, 3]\n",
      "[2, 87, 83, 149, 50, 9, 56, 664, 85, 2512, 15, 3]\n"
     ]
    }
   ],
   "source": [
    "encoded = tokenizers.en.tokenize(en_examples)\n",
    "\n",
    "for row in encoded.to_list():\n",
    "  print(row)"
   ]
  },
  {
   "cell_type": "markdown",
   "metadata": {
    "id": "dBRlikwDR2Lu"
   },
   "source": [
    "The `detokenize` method attempts to convert these token IDs back to human readable text: "
   ]
  },
  {
   "cell_type": "code",
   "execution_count": 12,
   "metadata": {
    "execution": {
     "iopub.execute_input": "2021-11-02T15:32:14.111779Z",
     "iopub.status.busy": "2021-11-02T15:32:14.110675Z",
     "iopub.status.idle": "2021-11-02T15:32:14.243187Z",
     "shell.execute_reply": "2021-11-02T15:32:14.242636Z"
    },
    "id": "Tpqx1aug3W31"
   },
   "outputs": [
    {
     "name": "stdout",
     "output_type": "stream",
     "text": [
      "and when you improve searchability , you actually take away the one advantage of print , which is serendipity .\n",
      "but what if it were active ?\n",
      "but they did n ' t test for curiosity .\n"
     ]
    }
   ],
   "source": [
    "round_trip = tokenizers.en.detokenize(encoded)\n",
    "for line in round_trip.numpy():\n",
    "  print(line.decode('utf-8'))"
   ]
  },
  {
   "cell_type": "markdown",
   "metadata": {
    "id": "e5mGvytArL9g"
   },
   "source": [
    "The lower level `lookup` method converts from token-IDs to token text:"
   ]
  },
  {
   "cell_type": "code",
   "execution_count": 13,
   "metadata": {
    "execution": {
     "iopub.execute_input": "2021-11-02T15:32:14.249381Z",
     "iopub.status.busy": "2021-11-02T15:32:14.248297Z",
     "iopub.status.idle": "2021-11-02T15:32:14.268742Z",
     "shell.execute_reply": "2021-11-02T15:32:14.269157Z"
    },
    "id": "RpzRLzvIuN3R"
   },
   "outputs": [
    {
     "data": {
      "text/plain": [
       "<tf.RaggedTensor [[b'[START]', b'and', b'when', b'you', b'improve', b'search', b'##ability', b',', b'you', b'actually', b'take', b'away', b'the', b'one', b'advantage', b'of', b'print', b',', b'which', b'is', b's', b'##ere', b'##nd', b'##ip', b'##ity', b'.', b'[END]'], [b'[START]', b'but', b'what', b'if', b'it', b'were', b'active', b'?', b'[END]'], [b'[START]', b'but', b'they', b'did', b'n', b\"'\", b't', b'test', b'for', b'curiosity', b'.', b'[END]']]>"
      ]
     },
     "execution_count": 13,
     "metadata": {},
     "output_type": "execute_result"
    }
   ],
   "source": [
    "tokens = tokenizers.en.lookup(encoded)\n",
    "tokens"
   ]
  },
  {
   "cell_type": "markdown",
   "metadata": {
    "id": "5V8Ix_PNSfhV"
   },
   "source": [
    "Here you can see the \"subword\" aspect of the tokenizers. The word \"searchability\" is decomposed into \"search ##ability\" and the word \"serendipity\" into \"s ##ere ##nd ##ip ##ity\""
   ]
  },
  {
   "cell_type": "markdown",
   "metadata": {
    "id": "fd1NWMxjfsDd"
   },
   "source": [
    "## Setup input pipeline"
   ]
  },
  {
   "cell_type": "markdown",
   "metadata": {
    "id": "E7JHK7N7tNZy"
   },
   "source": [
    "To build an input pipeline suitable for training you'll apply some transformations to the dataset.\n",
    "\n",
    "This function will be used to encode the batches of raw text:"
   ]
  },
  {
   "cell_type": "code",
   "execution_count": 14,
   "metadata": {
    "execution": {
     "iopub.execute_input": "2021-11-02T15:32:14.275296Z",
     "iopub.status.busy": "2021-11-02T15:32:14.274401Z",
     "iopub.status.idle": "2021-11-02T15:32:14.276395Z",
     "shell.execute_reply": "2021-11-02T15:32:14.276821Z"
    },
    "id": "6shgzEck3FiV"
   },
   "outputs": [],
   "source": [
    "def tokenize_pairs(pt, en):\n",
    "    pt = tokenizers.pt.tokenize(pt)\n",
    "    # Convert from ragged to dense, padding with zeros.\n",
    "    pt = pt.to_tensor()\n",
    "\n",
    "    en = tokenizers.en.tokenize(en)\n",
    "    # Convert from ragged to dense, padding with zeros.\n",
    "    en = en.to_tensor()\n",
    "    return pt, en"
   ]
  },
  {
   "cell_type": "markdown",
   "metadata": {
    "id": "cf2HwC_0wG0v"
   },
   "source": [
    "Here's a simple input pipeline that processes, shuffles and batches the data:"
   ]
  },
  {
   "cell_type": "code",
   "execution_count": 15,
   "metadata": {
    "execution": {
     "iopub.execute_input": "2021-11-02T15:32:14.281596Z",
     "iopub.status.busy": "2021-11-02T15:32:14.280625Z",
     "iopub.status.idle": "2021-11-02T15:32:14.283169Z",
     "shell.execute_reply": "2021-11-02T15:32:14.282676Z"
    },
    "id": "bcRp7VcQ5m6g"
   },
   "outputs": [],
   "source": [
    "BUFFER_SIZE = 20000\n",
    "BATCH_SIZE = 64"
   ]
  },
  {
   "cell_type": "code",
   "execution_count": 16,
   "metadata": {
    "execution": {
     "iopub.execute_input": "2021-11-02T15:32:14.289159Z",
     "iopub.status.busy": "2021-11-02T15:32:14.288114Z",
     "iopub.status.idle": "2021-11-02T15:32:14.518311Z",
     "shell.execute_reply": "2021-11-02T15:32:14.517720Z"
    },
    "id": "BUN_jLBTwNxk"
   },
   "outputs": [],
   "source": [
    "def make_batches(ds):\n",
    "  return (\n",
    "      ds\n",
    "      .cache()\n",
    "      .shuffle(BUFFER_SIZE)\n",
    "      .batch(BATCH_SIZE)\n",
    "      .map(tokenize_pairs, num_parallel_calls=tf.data.AUTOTUNE)\n",
    "      .prefetch(tf.data.AUTOTUNE))\n",
    "\n",
    "\n",
    "train_batches = make_batches(train_examples)\n",
    "val_batches = make_batches(val_examples)"
   ]
  },
  {
   "cell_type": "markdown",
   "metadata": {
    "id": "nBQuibYA4n0n"
   },
   "source": [
    "## Positional encoding\n",
    "\n",
    "Attention layers see their input as a set of vectors, with no sequential order. This model also doesn't contain any recurrent or convolutional layers. Because of this a \"positional encoding\" is added to give the model some information about the relative position of the tokens in the sentence. \n",
    "\n",
    "The positional encoding vector is added to the embedding vector. Embeddings represent a token in a d-dimensional space where tokens with similar meaning will be closer to each other. But the embeddings do not encode the relative position of tokens in a sentence. So after adding the positional encoding, tokens will be closer to each other based on the *similarity of their meaning and their position in the sentence*, in the d-dimensional space.\n",
    "\n",
    "The formula for calculating the positional encoding is as follows:\n",
    "\n",
    "$$\\Large{PE_{(pos, 2i)} = \\sin(pos / 10000^{2i / d_{model}})} $$\n",
    "$$\\Large{PE_{(pos, 2i+1)} = \\cos(pos / 10000^{2i / d_{model}})} $$"
   ]
  },
  {
   "cell_type": "code",
   "execution_count": 17,
   "metadata": {
    "execution": {
     "iopub.execute_input": "2021-11-02T15:32:14.524352Z",
     "iopub.status.busy": "2021-11-02T15:32:14.523255Z",
     "iopub.status.idle": "2021-11-02T15:32:14.525666Z",
     "shell.execute_reply": "2021-11-02T15:32:14.525203Z"
    },
    "id": "WhIOZjMNKujn"
   },
   "outputs": [],
   "source": [
    "def get_angles(pos, i, d_model):\n",
    "  angle_rates = 1 / np.power(10000, (2 * (i//2)) / np.float32(d_model))\n",
    "  return pos * angle_rates"
   ]
  },
  {
   "cell_type": "code",
   "execution_count": 18,
   "metadata": {
    "execution": {
     "iopub.execute_input": "2021-11-02T15:32:14.532166Z",
     "iopub.status.busy": "2021-11-02T15:32:14.531184Z",
     "iopub.status.idle": "2021-11-02T15:32:14.533260Z",
     "shell.execute_reply": "2021-11-02T15:32:14.533665Z"
    },
    "id": "1Rz82wEs5biZ"
   },
   "outputs": [],
   "source": [
    "def positional_encoding(position, d_model):\n",
    "  angle_rads = get_angles(np.arange(position)[:, np.newaxis],\n",
    "                          np.arange(d_model)[np.newaxis, :],\n",
    "                          d_model)\n",
    "\n",
    "  # apply sin to even indices in the array; 2i\n",
    "  angle_rads[:, 0::2] = np.sin(angle_rads[:, 0::2])\n",
    "\n",
    "  # apply cos to odd indices in the array; 2i+1\n",
    "  angle_rads[:, 1::2] = np.cos(angle_rads[:, 1::2])\n",
    "\n",
    "  pos_encoding = angle_rads[np.newaxis, ...]\n",
    "\n",
    "  return tf.cast(pos_encoding, dtype=tf.float32)"
   ]
  },
  {
   "cell_type": "code",
   "execution_count": 19,
   "metadata": {
    "execution": {
     "iopub.execute_input": "2021-11-02T15:32:14.540400Z",
     "iopub.status.busy": "2021-11-02T15:32:14.539226Z",
     "iopub.status.idle": "2021-11-02T15:32:15.289642Z",
     "shell.execute_reply": "2021-11-02T15:32:15.290077Z"
    },
    "id": "1kLCla68EloE"
   },
   "outputs": [
    {
     "name": "stdout",
     "output_type": "stream",
     "text": [
      "(1, 2048, 512)\n"
     ]
    },
    {
     "data": {
      "image/png": "[encoded data removed]",
      "text/plain": [
       "<Figure size 432x288 with 2 Axes>"
      ]
     },
     "metadata": {
      "needs_background": "light"
     },
     "output_type": "display_data"
    }
   ],
   "source": [
    "n, d = 2048, 512\n",
    "pos_encoding = positional_encoding(n, d)\n",
    "print(pos_encoding.shape)\n",
    "pos_encoding = pos_encoding[0]\n",
    "\n",
    "# Juggle the dimensions for the plot\n",
    "pos_encoding = tf.reshape(pos_encoding, (n, d//2, 2))\n",
    "pos_encoding = tf.transpose(pos_encoding, (2, 1, 0))\n",
    "pos_encoding = tf.reshape(pos_encoding, (d, n))\n",
    "\n",
    "plt.pcolormesh(pos_encoding, cmap='RdBu')\n",
    "plt.ylabel('Depth')\n",
    "plt.xlabel('Position')\n",
    "plt.colorbar()\n",
    "plt.show()"
   ]
  },
  {
   "cell_type": "markdown",
   "metadata": {
    "id": "a_b4ou4TYqUN"
   },
   "source": [
    "## Masking"
   ]
  },
  {
   "cell_type": "markdown",
   "metadata": {
    "id": "s42Uydjkv0hF"
   },
   "source": [
    "Mask all the pad tokens in the batch of sequence. It ensures that the model does not treat padding as the input. The mask indicates where pad value `0` is present: it outputs a `1` at those locations, and a `0` otherwise."
   ]
  },
  {
   "cell_type": "code",
   "execution_count": 20,
   "metadata": {
    "execution": {
     "iopub.execute_input": "2021-11-02T15:32:15.295366Z",
     "iopub.status.busy": "2021-11-02T15:32:15.294712Z",
     "iopub.status.idle": "2021-11-02T15:32:15.296456Z",
     "shell.execute_reply": "2021-11-02T15:32:15.296840Z"
    },
    "id": "U2i8-e1s8ti9"
   },
   "outputs": [],
   "source": [
    "def create_padding_mask(seq):\n",
    "  seq = tf.cast(tf.math.equal(seq, 0), tf.float32)\n",
    "\n",
    "  # add extra dimensions to add the padding\n",
    "  # to the attention logits.\n",
    "  return seq[:, tf.newaxis, tf.newaxis, :]  # (batch_size, 1, 1, seq_len)"
   ]
  },
  {
   "cell_type": "code",
   "execution_count": 21,
   "metadata": {
    "execution": {
     "iopub.execute_input": "2021-11-02T15:32:15.301371Z",
     "iopub.status.busy": "2021-11-02T15:32:15.300759Z",
     "iopub.status.idle": "2021-11-02T15:32:15.305908Z",
     "shell.execute_reply": "2021-11-02T15:32:15.306288Z"
    },
    "id": "A7BYeBCNvi7n"
   },
   "outputs": [
    {
     "data": {
      "text/plain": [
       "<tf.Tensor: shape=(3, 1, 1, 5), dtype=float32, numpy=\n",
       "array([[[[0., 0., 1., 1., 0.]]],\n",
       "\n",
       "\n",
       "       [[[0., 0., 0., 1., 1.]]],\n",
       "\n",
       "\n",
       "       [[[1., 1., 1., 0., 0.]]]], dtype=float32)>"
      ]
     },
     "execution_count": 21,
     "metadata": {},
     "output_type": "execute_result"
    }
   ],
   "source": [
    "x = tf.constant([[7, 6, 0, 0, 1], [1, 2, 3, 0, 0], [0, 0, 0, 4, 5]])\n",
    "create_padding_mask(x)"
   ]
  },
  {
   "cell_type": "markdown",
   "metadata": {
    "id": "Z0hzukDBgVom"
   },
   "source": [
    "The look-ahead mask is used to mask the future tokens in a sequence. In other words, the mask indicates which entries should not be used.\n",
    "\n",
    "This means that to predict the third token, only the first and second token will be used. Similarly to predict the fourth token, only the first, second and the third tokens will be used and so on."
   ]
  },
  {
   "cell_type": "code",
   "execution_count": 22,
   "metadata": {
    "execution": {
     "iopub.execute_input": "2021-11-02T15:32:15.310857Z",
     "iopub.status.busy": "2021-11-02T15:32:15.310217Z",
     "iopub.status.idle": "2021-11-02T15:32:15.312048Z",
     "shell.execute_reply": "2021-11-02T15:32:15.312446Z"
    },
    "id": "dVxS8OPI9uI0"
   },
   "outputs": [],
   "source": [
    "def create_look_ahead_mask(size):\n",
    "  mask = 1 - tf.linalg.band_part(tf.ones((size, size)), -1, 0)\n",
    "  return mask  # (seq_len, seq_len)"
   ]
  },
  {
   "cell_type": "code",
   "execution_count": 23,
   "metadata": {
    "execution": {
     "iopub.execute_input": "2021-11-02T15:32:15.317691Z",
     "iopub.status.busy": "2021-11-02T15:32:15.317095Z",
     "iopub.status.idle": "2021-11-02T15:32:15.321579Z",
     "shell.execute_reply": "2021-11-02T15:32:15.321984Z"
    },
    "id": "yxKGuXxaBeeE"
   },
   "outputs": [
    {
     "data": {
      "text/plain": [
       "<tf.Tensor: shape=(3, 3), dtype=float32, numpy=\n",
       "array([[0., 1., 1.],\n",
       "       [0., 0., 1.],\n",
       "       [0., 0., 0.]], dtype=float32)>"
      ]
     },
     "execution_count": 23,
     "metadata": {},
     "output_type": "execute_result"
    }
   ],
   "source": [
    "x = tf.random.uniform((1, 3))\n",
    "temp = create_look_ahead_mask(x.shape[1])\n",
    "temp"
   ]
  },
  {
   "cell_type": "markdown",
   "metadata": {
    "id": "xluDl5cXYy4y"
   },
   "source": [
    "## Scaled dot product attention"
   ]
  },
  {
   "cell_type": "markdown",
   "metadata": {
    "id": "vsxEE_-Wa1gF"
   },
   "source": [
    "<img src=\"https://www.tensorflow.org/images/tutorials/transformer/scaled_attention.png\" width=\"500\" alt=\"scaled_dot_product_attention\">\n",
    "\n",
    "The attention function used by the transformer takes three inputs: Q (query), K (key), V (value). The equation used to calculate the attention weights is:\n",
    "\n",
    "$$\\Large{Attention(Q, K, V) = softmax_k\\left(\\frac{QK^T}{\\sqrt{d_k}}\\right) V} $$\n",
    "\n",
    "The dot-product attention is scaled by a factor of square root of the depth. This is done because for large values of depth, the dot product grows large in magnitude pushing the softmax function where it has small gradients resulting in a very hard softmax. \n",
    "\n",
    "For example, consider that `Q` and `K` have a mean of 0 and variance of 1. Their matrix multiplication will have a mean of 0 and variance of `dk`. So the *square root of `dk`* is used for scaling, so you get a consistent variance regardless of the value of `dk`. If the variance is too low the output may be too flat to optimize effectively. If the variance is too high the softmax may saturate at initialization making it difficult to learn.\n",
    "\n",
    "The mask is multiplied with -1e9 (close to negative infinity). This is done because the mask is summed with the scaled matrix multiplication of Q and K and is applied immediately before a softmax. The goal is to zero out these cells, and large negative inputs to softmax are near zero in the output."
   ]
  },
  {
   "cell_type": "code",
   "execution_count": 24,
   "metadata": {
    "execution": {
     "iopub.execute_input": "2021-11-02T15:32:15.328896Z",
     "iopub.status.busy": "2021-11-02T15:32:15.328264Z",
     "iopub.status.idle": "2021-11-02T15:32:15.329967Z",
     "shell.execute_reply": "2021-11-02T15:32:15.330373Z"
    },
    "id": "LazzUq3bJ5SH"
   },
   "outputs": [],
   "source": [
    "def scaled_dot_product_attention(q, k, v, mask):\n",
    "  \"\"\"Calculate the attention weights.\n",
    "  q, k, v must have matching leading dimensions.\n",
    "  k, v must have matching penultimate dimension, i.e.: seq_len_k = seq_len_v.\n",
    "  The mask has different shapes depending on its type(padding or look ahead)\n",
    "  but it must be broadcastable for addition.\n",
    "\n",
    "  Args:\n",
    "    q: query shape == (..., seq_len_q, depth)\n",
    "    k: key shape == (..., seq_len_k, depth)\n",
    "    v: value shape == (..., seq_len_v, depth_v)\n",
    "    mask: Float tensor with shape broadcastable\n",
    "          to (..., seq_len_q, seq_len_k). Defaults to None.\n",
    "\n",
    "  Returns:\n",
    "    output, attention_weights\n",
    "  \"\"\"\n",
    "\n",
    "  matmul_qk = tf.matmul(q, k, transpose_b=True)  # (..., seq_len_q, seq_len_k)\n",
    "\n",
    "  # scale matmul_qk\n",
    "  dk = tf.cast(tf.shape(k)[-1], tf.float32)\n",
    "  scaled_attention_logits = matmul_qk / tf.math.sqrt(dk)\n",
    "\n",
    "  # add the mask to the scaled tensor.\n",
    "  if mask is not None:\n",
    "    scaled_attention_logits += (mask * -1e9)\n",
    "\n",
    "  # softmax is normalized on the last axis (seq_len_k) so that the scores\n",
    "  # add up to 1.\n",
    "  attention_weights = tf.nn.softmax(scaled_attention_logits, axis=-1)  # (..., seq_len_q, seq_len_k)\n",
    "\n",
    "  output = tf.matmul(attention_weights, v)  # (..., seq_len_q, depth_v)\n",
    "\n",
    "  return output, attention_weights"
   ]
  },
  {
   "cell_type": "markdown",
   "metadata": {
    "id": "FiqETnhCkoXh"
   },
   "source": [
    "As the softmax normalization is done on K, its values decide the amount of importance given to Q.\n",
    "\n",
    "The output represents the multiplication of the attention weights and the V (value) vector. This ensures that the tokens you want to focus on are kept as-is and the irrelevant tokens are flushed out."
   ]
  },
  {
   "cell_type": "code",
   "execution_count": 25,
   "metadata": {
    "execution": {
     "iopub.execute_input": "2021-11-02T15:32:15.335307Z",
     "iopub.status.busy": "2021-11-02T15:32:15.334662Z",
     "iopub.status.idle": "2021-11-02T15:32:15.336482Z",
     "shell.execute_reply": "2021-11-02T15:32:15.336915Z"
    },
    "id": "n90YjClyInFy"
   },
   "outputs": [],
   "source": [
    "def print_out(q, k, v):\n",
    "  temp_out, temp_attn = scaled_dot_product_attention(\n",
    "      q, k, v, None)\n",
    "  print('Attention weights are:')\n",
    "  print(temp_attn)\n",
    "  print('Output is:')\n",
    "  print(temp_out)"
   ]
  },
  {
   "cell_type": "code",
   "execution_count": 26,
   "metadata": {
    "execution": {
     "iopub.execute_input": "2021-11-02T15:32:15.343655Z",
     "iopub.status.busy": "2021-11-02T15:32:15.343038Z",
     "iopub.status.idle": "2021-11-02T15:32:15.768621Z",
     "shell.execute_reply": "2021-11-02T15:32:15.769031Z"
    },
    "id": "yAzUAf2DPlNt"
   },
   "outputs": [
    {
     "name": "stdout",
     "output_type": "stream",
     "text": [
      "Attention weights are:\n",
      "tf.Tensor([[0. 1. 0. 0.]], shape=(1, 4), dtype=float32)\n",
      "Output is:\n",
      "tf.Tensor([[10.  0.]], shape=(1, 2), dtype=float32)\n"
     ]
    }
   ],
   "source": [
    "np.set_printoptions(suppress=True)\n",
    "\n",
    "temp_k = tf.constant([[10, 0, 0],\n",
    "                      [0, 10, 0],\n",
    "                      [0, 0, 10],\n",
    "                      [0, 0, 10]], dtype=tf.float32)  # (4, 3)\n",
    "\n",
    "temp_v = tf.constant([[1, 0],\n",
    "                      [10, 0],\n",
    "                      [100, 5],\n",
    "                      [1000, 6]], dtype=tf.float32)  # (4, 2)\n",
    "\n",
    "# This `query` aligns with the second `key`,\n",
    "# so the second `value` is returned.\n",
    "temp_q = tf.constant([[0, 10, 0]], dtype=tf.float32)  # (1, 3)\n",
    "print_out(temp_q, temp_k, temp_v)"
   ]
  },
  {
   "cell_type": "code",
   "execution_count": 27,
   "metadata": {
    "execution": {
     "iopub.execute_input": "2021-11-02T15:32:15.774405Z",
     "iopub.status.busy": "2021-11-02T15:32:15.773661Z",
     "iopub.status.idle": "2021-11-02T15:32:15.778193Z",
     "shell.execute_reply": "2021-11-02T15:32:15.778587Z"
    },
    "id": "zg6k-fGhgXra"
   },
   "outputs": [
    {
     "name": "stdout",
     "output_type": "stream",
     "text": [
      "Attention weights are:\n",
      "tf.Tensor([[0.  0.  0.5 0.5]], shape=(1, 4), dtype=float32)\n",
      "Output is:\n",
      "tf.Tensor([[550.    5.5]], shape=(1, 2), dtype=float32)\n"
     ]
    }
   ],
   "source": [
    "# This query aligns with a repeated key (third and fourth),\n",
    "# so all associated values get averaged.\n",
    "temp_q = tf.constant([[0, 0, 10]], dtype=tf.float32)  # (1, 3)\n",
    "print_out(temp_q, temp_k, temp_v)"
   ]
  },
  {
   "cell_type": "code",
   "execution_count": 28,
   "metadata": {
    "execution": {
     "iopub.execute_input": "2021-11-02T15:32:15.783995Z",
     "iopub.status.busy": "2021-11-02T15:32:15.783306Z",
     "iopub.status.idle": "2021-11-02T15:32:15.787829Z",
     "shell.execute_reply": "2021-11-02T15:32:15.788234Z"
    },
    "id": "UAq3YOzUgXhb"
   },
   "outputs": [
    {
     "name": "stdout",
     "output_type": "stream",
     "text": [
      "Attention weights are:\n",
      "tf.Tensor([[0.5 0.5 0.  0. ]], shape=(1, 4), dtype=float32)\n",
      "Output is:\n",
      "tf.Tensor([[5.5 0. ]], shape=(1, 2), dtype=float32)\n"
     ]
    }
   ],
   "source": [
    "# This query aligns equally with the first and second key,\n",
    "# so their values get averaged.\n",
    "temp_q = tf.constant([[10, 10, 0]], dtype=tf.float32)  # (1, 3)\n",
    "print_out(temp_q, temp_k, temp_v)"
   ]
  },
  {
   "cell_type": "markdown",
   "metadata": {
    "id": "aOz-4_XIhaTP"
   },
   "source": [
    "Pass all the queries together."
   ]
  },
  {
   "cell_type": "code",
   "execution_count": 29,
   "metadata": {
    "execution": {
     "iopub.execute_input": "2021-11-02T15:32:15.793556Z",
     "iopub.status.busy": "2021-11-02T15:32:15.792832Z",
     "iopub.status.idle": "2021-11-02T15:32:15.797807Z",
     "shell.execute_reply": "2021-11-02T15:32:15.797349Z"
    },
    "id": "6dlU8Tm-hYrF"
   },
   "outputs": [
    {
     "name": "stdout",
     "output_type": "stream",
     "text": [
      "Attention weights are:\n",
      "tf.Tensor(\n",
      "[[0.  0.  0.5 0.5]\n",
      " [0.  1.  0.  0. ]\n",
      " [0.5 0.5 0.  0. ]], shape=(3, 4), dtype=float32)\n",
      "Output is:\n",
      "tf.Tensor(\n",
      "[[550.    5.5]\n",
      " [ 10.    0. ]\n",
      " [  5.5   0. ]], shape=(3, 2), dtype=float32)\n"
     ]
    }
   ],
   "source": [
    "temp_q = tf.constant([[0, 0, 10],\n",
    "                      [0, 10, 0],\n",
    "                      [10, 10, 0]], dtype=tf.float32)  # (3, 3)\n",
    "print_out(temp_q, temp_k, temp_v)"
   ]
  },
  {
   "cell_type": "markdown",
   "metadata": {
    "id": "kmzGPEy64qmA"
   },
   "source": [
    "## Multi-head attention"
   ]
  },
  {
   "cell_type": "markdown",
   "metadata": {
    "id": "fz5BMC8Kaoqo"
   },
   "source": [
    "<img src=\"https://www.tensorflow.org/images/tutorials/transformer/multi_head_attention.png\" width=\"500\" alt=\"multi-head attention\">\n",
    "\n",
    "\n",
    "Multi-head attention consists of four parts:\n",
    "*    Linear layers.\n",
    "*    Scaled dot-product attention.\n",
    "*    Final linear layer."
   ]
  },
  {
   "cell_type": "markdown",
   "metadata": {
    "id": "JPmbr6F1C-v_"
   },
   "source": [
    "Each multi-head attention block gets three inputs; Q (query), K (key), V (value). These are put through linear (Dense) layers before the multi-head attention function.\n",
    "\n",
    "In the diagram above `(K,Q,V)` are passed through sepearte linear (`Dense`) layers for each attention head. For simplicity/efficiency the code below implements this using a single dense layer with `num_heads` times as many outputs. The output is rearranged to a shape of `(batch, num_heads, ...)` before applying the attention function.\n",
    "\n",
    "The `scaled_dot_product_attention` function defined above is applied in a single call, broadcasted for efficiency. An appropriate mask must be used in the attention step.  The attention output for each head is then concatenated (using `tf.transpose`, and `tf.reshape`) and put through a final `Dense` layer.\n",
    "\n",
    "Instead of one single attention head, Q, K, and V are split into multiple heads because it allows the model to jointly attend to information from different representation subspaces at different positions. After the split each head has a reduced dimensionality, so the total computation cost is the same as a single head attention with full dimensionality."
   ]
  },
  {
   "cell_type": "code",
   "execution_count": 30,
   "metadata": {
    "execution": {
     "iopub.execute_input": "2021-11-02T15:32:15.808082Z",
     "iopub.status.busy": "2021-11-02T15:32:15.807393Z",
     "iopub.status.idle": "2021-11-02T15:32:15.809152Z",
     "shell.execute_reply": "2021-11-02T15:32:15.809552Z"
    },
    "id": "BSV3PPKsYecw"
   },
   "outputs": [],
   "source": [
    "class MultiHeadAttention(tf.keras.layers.Layer):\n",
    "  def __init__(self, d_model, num_heads):\n",
    "    super(MultiHeadAttention, self).__init__()\n",
    "    self.num_heads = num_heads\n",
    "    self.d_model = d_model\n",
    "\n",
    "    assert d_model % self.num_heads == 0\n",
    "\n",
    "    self.depth = d_model // self.num_heads\n",
    "\n",
    "    self.wq = tf.keras.layers.Dense(d_model)\n",
    "    self.wk = tf.keras.layers.Dense(d_model)\n",
    "    self.wv = tf.keras.layers.Dense(d_model)\n",
    "\n",
    "    self.dense = tf.keras.layers.Dense(d_model)\n",
    "\n",
    "  def split_heads(self, x, batch_size):\n",
    "    \"\"\"Split the last dimension into (num_heads, depth).\n",
    "    Transpose the result such that the shape is (batch_size, num_heads, seq_len, depth)\n",
    "    \"\"\"\n",
    "    x = tf.reshape(x, (batch_size, -1, self.num_heads, self.depth))\n",
    "    return tf.transpose(x, perm=[0, 2, 1, 3])\n",
    "\n",
    "  def call(self, v, k, q, mask):\n",
    "    batch_size = tf.shape(q)[0]\n",
    "\n",
    "    q = self.wq(q)  # (batch_size, seq_len, d_model)\n",
    "    k = self.wk(k)  # (batch_size, seq_len, d_model)\n",
    "    v = self.wv(v)  # (batch_size, seq_len, d_model)\n",
    "\n",
    "    q = self.split_heads(q, batch_size)  # (batch_size, num_heads, seq_len_q, depth)\n",
    "    k = self.split_heads(k, batch_size)  # (batch_size, num_heads, seq_len_k, depth)\n",
    "    v = self.split_heads(v, batch_size)  # (batch_size, num_heads, seq_len_v, depth)\n",
    "\n",
    "    # scaled_attention.shape == (batch_size, num_heads, seq_len_q, depth)\n",
    "    # attention_weights.shape == (batch_size, num_heads, seq_len_q, seq_len_k)\n",
    "    scaled_attention, attention_weights = scaled_dot_product_attention(\n",
    "        q, k, v, mask)\n",
    "\n",
    "    scaled_attention = tf.transpose(scaled_attention, perm=[0, 2, 1, 3])  # (batch_size, seq_len_q, num_heads, depth)\n",
    "\n",
    "    concat_attention = tf.reshape(scaled_attention,\n",
    "                                  (batch_size, -1, self.d_model))  # (batch_size, seq_len_q, d_model)\n",
    "\n",
    "    output = self.dense(concat_attention)  # (batch_size, seq_len_q, d_model)\n",
    "\n",
    "    return output, attention_weights"
   ]
  },
  {
   "cell_type": "markdown",
   "metadata": {
    "id": "0D8FJue5lDyZ"
   },
   "source": [
    "Create a `MultiHeadAttention` layer to try out. At each location in the sequence, `y`, the `MultiHeadAttention` runs all 8 attention heads across all other locations in the sequence, returning a new vector of the same length at each location."
   ]
  },
  {
   "cell_type": "code",
   "execution_count": 31,
   "metadata": {
    "execution": {
     "iopub.execute_input": "2021-11-02T15:32:15.814682Z",
     "iopub.status.busy": "2021-11-02T15:32:15.814025Z",
     "iopub.status.idle": "2021-11-02T15:32:15.842377Z",
     "shell.execute_reply": "2021-11-02T15:32:15.841833Z"
    },
    "id": "Hu94p-_-2_BX"
   },
   "outputs": [
    {
     "data": {
      "text/plain": [
       "(TensorShape([1, 60, 512]), TensorShape([1, 8, 60, 60]))"
      ]
     },
     "execution_count": 31,
     "metadata": {},
     "output_type": "execute_result"
    }
   ],
   "source": [
    "temp_mha = MultiHeadAttention(d_model=512, num_heads=8)\n",
    "y = tf.random.uniform((1, 60, 512))  # (batch_size, encoder_sequence, d_model)\n",
    "out, attn = temp_mha(y, k=y, q=y, mask=None)\n",
    "out.shape, attn.shape"
   ]
  },
  {
   "cell_type": "markdown",
   "metadata": {
    "id": "RdDqGayx67vv"
   },
   "source": [
    "## Point wise feed forward network"
   ]
  },
  {
   "cell_type": "markdown",
   "metadata": {
    "id": "gBqzJXGfHK3X"
   },
   "source": [
    "Point wise feed forward network consists of two fully-connected layers with a ReLU activation in between."
   ]
  },
  {
   "cell_type": "code",
   "execution_count": 32,
   "metadata": {
    "execution": {
     "iopub.execute_input": "2021-11-02T15:32:15.847627Z",
     "iopub.status.busy": "2021-11-02T15:32:15.846968Z",
     "iopub.status.idle": "2021-11-02T15:32:15.849172Z",
     "shell.execute_reply": "2021-11-02T15:32:15.848685Z"
    },
    "id": "ET7xLt0yCT6Z"
   },
   "outputs": [],
   "source": [
    "def point_wise_feed_forward_network(d_model, dff):\n",
    "  return tf.keras.Sequential([\n",
    "      tf.keras.layers.Dense(dff, activation='relu'),  # (batch_size, seq_len, dff)\n",
    "      tf.keras.layers.Dense(d_model)  # (batch_size, seq_len, d_model)\n",
    "  ])"
   ]
  },
  {
   "cell_type": "code",
   "execution_count": 33,
   "metadata": {
    "execution": {
     "iopub.execute_input": "2021-11-02T15:32:15.855736Z",
     "iopub.status.busy": "2021-11-02T15:32:15.855090Z",
     "iopub.status.idle": "2021-11-02T15:32:15.882286Z",
     "shell.execute_reply": "2021-11-02T15:32:15.882674Z"
    },
    "id": "mytb1lPyOHLB"
   },
   "outputs": [
    {
     "data": {
      "text/plain": [
       "TensorShape([64, 50, 512])"
      ]
     },
     "execution_count": 33,
     "metadata": {},
     "output_type": "execute_result"
    }
   ],
   "source": [
    "sample_ffn = point_wise_feed_forward_network(512, 2048)\n",
    "sample_ffn(tf.random.uniform((64, 50, 512))).shape"
   ]
  },
  {
   "cell_type": "markdown",
   "metadata": {
    "id": "7e7hKcxn6-zd"
   },
   "source": [
    "## Encoder and decoder"
   ]
  },
  {
   "cell_type": "markdown",
   "metadata": {
    "id": "yScbC0MUH8dS"
   },
   "source": [
    "<img src=\"https://www.tensorflow.org/images/tutorials/transformer/transformer.png\" width=\"600\" alt=\"transformer\">"
   ]
  },
  {
   "cell_type": "markdown",
   "metadata": {
    "id": "MfYJG-Kvgwy2"
   },
   "source": [
    "The transformer model follows the same general pattern as a standard [sequence to sequence with attention model](https://www.tensorflow.org/text/tutorials/nmt_with_attention.ipynb). \n",
    "\n",
    "* The input sentence is passed through `N` encoder layers that generates an output for each token in the sequence.\n",
    "* The decoder attends to the encoder's output and its own input (self-attention) to predict the next word. "
   ]
  },
  {
   "cell_type": "markdown",
   "metadata": {
    "id": "QFv-FNYUmvpn"
   },
   "source": [
    "### Encoder layer\n",
    "\n",
    "Each encoder layer consists of sublayers:\n",
    "\n",
    "1.   Multi-head attention (with padding mask) \n",
    "2.    Point wise feed forward networks. \n",
    "\n",
    "Each of these sublayers has a residual connection around it followed by a layer normalization. Residual connections help in avoiding the vanishing gradient problem in deep networks.\n",
    "\n",
    "The output of each sublayer is `LayerNorm(x + Sublayer(x))`. The normalization is done on the `d_model` (last) axis. There are N encoder layers in the transformer."
   ]
  },
  {
   "cell_type": "code",
   "execution_count": 34,
   "metadata": {
    "execution": {
     "iopub.execute_input": "2021-11-02T15:32:15.891299Z",
     "iopub.status.busy": "2021-11-02T15:32:15.890541Z",
     "iopub.status.idle": "2021-11-02T15:32:15.892873Z",
     "shell.execute_reply": "2021-11-02T15:32:15.892364Z"
    },
    "id": "ncyS-Ms3i2x_"
   },
   "outputs": [],
   "source": [
    "class EncoderLayer(tf.keras.layers.Layer):\n",
    "  def __init__(self, d_model, num_heads, dff, rate=0.1):\n",
    "    super(EncoderLayer, self).__init__()\n",
    "\n",
    "    self.mha = MultiHeadAttention(d_model, num_heads)\n",
    "    self.ffn = point_wise_feed_forward_network(d_model, dff)\n",
    "\n",
    "    self.layernorm1 = tf.keras.layers.LayerNormalization(epsilon=1e-6)\n",
    "    self.layernorm2 = tf.keras.layers.LayerNormalization(epsilon=1e-6)\n",
    "\n",
    "    self.dropout1 = tf.keras.layers.Dropout(rate)\n",
    "    self.dropout2 = tf.keras.layers.Dropout(rate)\n",
    "\n",
    "  def call(self, x, training, mask):\n",
    "\n",
    "    attn_output, _ = self.mha(x, x, x, mask)  # (batch_size, input_seq_len, d_model)\n",
    "    attn_output = self.dropout1(attn_output, training=training)\n",
    "    out1 = self.layernorm1(x + attn_output)  # (batch_size, input_seq_len, d_model)\n",
    "\n",
    "    ffn_output = self.ffn(out1)  # (batch_size, input_seq_len, d_model)\n",
    "    ffn_output = self.dropout2(ffn_output, training=training)\n",
    "    out2 = self.layernorm2(out1 + ffn_output)  # (batch_size, input_seq_len, d_model)\n",
    "\n",
    "    return out2"
   ]
  },
  {
   "cell_type": "code",
   "execution_count": 35,
   "metadata": {
    "execution": {
     "iopub.execute_input": "2021-11-02T15:32:15.904281Z",
     "iopub.status.busy": "2021-11-02T15:32:15.903526Z",
     "iopub.status.idle": "2021-11-02T15:32:15.954501Z",
     "shell.execute_reply": "2021-11-02T15:32:15.954917Z"
    },
    "id": "AzZRXdO0mI48"
   },
   "outputs": [
    {
     "data": {
      "text/plain": [
       "TensorShape([64, 43, 512])"
      ]
     },
     "execution_count": 35,
     "metadata": {},
     "output_type": "execute_result"
    }
   ],
   "source": [
    "sample_encoder_layer = EncoderLayer(512, 8, 2048)\n",
    "\n",
    "sample_encoder_layer_output = sample_encoder_layer(\n",
    "    tf.random.uniform((64, 43, 512)), False, None)\n",
    "\n",
    "sample_encoder_layer_output.shape  # (batch_size, input_seq_len, d_model)"
   ]
  },
  {
   "cell_type": "markdown",
   "metadata": {
    "id": "6LO_48Owmx_o"
   },
   "source": [
    "### Decoder layer\n",
    "\n",
    "Each decoder layer consists of sublayers:\n",
    "\n",
    "1.   Masked multi-head attention (with look ahead mask and padding mask)\n",
    "2.   Multi-head attention (with padding mask). V (value) and K (key) receive the *encoder output* as inputs. Q (query) receives the *output from the masked multi-head attention sublayer.*\n",
    "3.   Point wise feed forward networks\n",
    "\n",
    "Each of these sublayers has a residual connection around it followed by a layer normalization. The output of each sublayer is `LayerNorm(x + Sublayer(x))`. The normalization is done on the `d_model` (last) axis.\n",
    "\n",
    "There are N decoder layers in the transformer.\n",
    "\n",
    "As Q receives the output from decoder's first attention block, and K receives the encoder output, the attention weights represent the importance given to the decoder's input based on the encoder's output. In other words, the decoder predicts the next token by looking at the encoder output and self-attending to its own output. See the demonstration above in the scaled dot product attention section."
   ]
  },
  {
   "cell_type": "code",
   "execution_count": 36,
   "metadata": {
    "execution": {
     "iopub.execute_input": "2021-11-02T15:32:15.963667Z",
     "iopub.status.busy": "2021-11-02T15:32:15.962997Z",
     "iopub.status.idle": "2021-11-02T15:32:15.964750Z",
     "shell.execute_reply": "2021-11-02T15:32:15.965123Z"
    },
    "id": "9SoX0-vd1hue"
   },
   "outputs": [],
   "source": [
    "class DecoderLayer(tf.keras.layers.Layer):\n",
    "  def __init__(self, d_model, num_heads, dff, rate=0.1):\n",
    "    super(DecoderLayer, self).__init__()\n",
    "\n",
    "    self.mha1 = MultiHeadAttention(d_model, num_heads)\n",
    "    self.mha2 = MultiHeadAttention(d_model, num_heads)\n",
    "\n",
    "    self.ffn = point_wise_feed_forward_network(d_model, dff)\n",
    "\n",
    "    self.layernorm1 = tf.keras.layers.LayerNormalization(epsilon=1e-6)\n",
    "    self.layernorm2 = tf.keras.layers.LayerNormalization(epsilon=1e-6)\n",
    "    self.layernorm3 = tf.keras.layers.LayerNormalization(epsilon=1e-6)\n",
    "\n",
    "    self.dropout1 = tf.keras.layers.Dropout(rate)\n",
    "    self.dropout2 = tf.keras.layers.Dropout(rate)\n",
    "    self.dropout3 = tf.keras.layers.Dropout(rate)\n",
    "\n",
    "  def call(self, x, enc_output, training,\n",
    "           look_ahead_mask, padding_mask):\n",
    "    # enc_output.shape == (batch_size, input_seq_len, d_model)\n",
    "\n",
    "    attn1, attn_weights_block1 = self.mha1(x, x, x, look_ahead_mask)  # (batch_size, target_seq_len, d_model)\n",
    "    attn1 = self.dropout1(attn1, training=training)\n",
    "    out1 = self.layernorm1(attn1 + x)\n",
    "\n",
    "    attn2, attn_weights_block2 = self.mha2(\n",
    "        enc_output, enc_output, out1, padding_mask)  # (batch_size, target_seq_len, d_model)\n",
    "    attn2 = self.dropout2(attn2, training=training)\n",
    "    out2 = self.layernorm2(attn2 + out1)  # (batch_size, target_seq_len, d_model)\n",
    "\n",
    "    ffn_output = self.ffn(out2)  # (batch_size, target_seq_len, d_model)\n",
    "    ffn_output = self.dropout3(ffn_output, training=training)\n",
    "    out3 = self.layernorm3(ffn_output + out2)  # (batch_size, target_seq_len, d_model)\n",
    "\n",
    "    return out3, attn_weights_block1, attn_weights_block2"
   ]
  },
  {
   "cell_type": "code",
   "execution_count": 37,
   "metadata": {
    "execution": {
     "iopub.execute_input": "2021-11-02T15:32:15.977355Z",
     "iopub.status.busy": "2021-11-02T15:32:15.976682Z",
     "iopub.status.idle": "2021-11-02T15:32:16.038726Z",
     "shell.execute_reply": "2021-11-02T15:32:16.039172Z"
    },
    "id": "Ne2Bqx8k71l0"
   },
   "outputs": [
    {
     "data": {
      "text/plain": [
       "TensorShape([64, 50, 512])"
      ]
     },
     "execution_count": 37,
     "metadata": {},
     "output_type": "execute_result"
    }
   ],
   "source": [
    "sample_decoder_layer = DecoderLayer(512, 8, 2048)\n",
    "\n",
    "sample_decoder_layer_output, _, _ = sample_decoder_layer(\n",
    "    tf.random.uniform((64, 50, 512)), sample_encoder_layer_output,\n",
    "    False, None, None)\n",
    "\n",
    "sample_decoder_layer_output.shape  # (batch_size, target_seq_len, d_model)"
   ]
  },
  {
   "cell_type": "markdown",
   "metadata": {
    "id": "SE1H51Ajm0q1"
   },
   "source": [
    "### Encoder\n",
    "\n",
    "The `Encoder` consists of:\n",
    "1.   Input Embedding\n",
    "2.   Positional Encoding\n",
    "3.   N encoder layers\n",
    "\n",
    "The input is put through an embedding which is summed with the positional encoding. The output of this summation is the input to the encoder layers. The output of the encoder is the input to the decoder."
   ]
  },
  {
   "cell_type": "code",
   "execution_count": 38,
   "metadata": {
    "execution": {
     "iopub.execute_input": "2021-11-02T15:32:16.047799Z",
     "iopub.status.busy": "2021-11-02T15:32:16.047073Z",
     "iopub.status.idle": "2021-11-02T15:32:16.049561Z",
     "shell.execute_reply": "2021-11-02T15:32:16.049055Z"
    },
    "id": "jpEox7gJ8FCI"
   },
   "outputs": [],
   "source": [
    "class Encoder(tf.keras.layers.Layer):\n",
    "  def __init__(self, num_layers, d_model, num_heads, dff, input_vocab_size,\n",
    "               maximum_position_encoding, rate=0.1):\n",
    "    super(Encoder, self).__init__()\n",
    "\n",
    "    self.d_model = d_model\n",
    "    self.num_layers = num_layers\n",
    "\n",
    "    self.embedding = tf.keras.layers.Embedding(input_vocab_size, d_model)\n",
    "    self.pos_encoding = positional_encoding(maximum_position_encoding,\n",
    "                                            self.d_model)\n",
    "\n",
    "    self.enc_layers = [EncoderLayer(d_model, num_heads, dff, rate)\n",
    "                       for _ in range(num_layers)]\n",
    "\n",
    "    self.dropout = tf.keras.layers.Dropout(rate)\n",
    "\n",
    "  def call(self, x, training, mask):\n",
    "\n",
    "    seq_len = tf.shape(x)[1]\n",
    "\n",
    "    # adding embedding and position encoding.\n",
    "    x = self.embedding(x)  # (batch_size, input_seq_len, d_model)\n",
    "    x *= tf.math.sqrt(tf.cast(self.d_model, tf.float32))\n",
    "    x += self.pos_encoding[:, :seq_len, :]\n",
    "\n",
    "    x = self.dropout(x, training=training)\n",
    "\n",
    "    for i in range(self.num_layers):\n",
    "      x = self.enc_layers[i](x, training, mask)\n",
    "\n",
    "    return x  # (batch_size, input_seq_len, d_model)"
   ]
  },
  {
   "cell_type": "code",
   "execution_count": 39,
   "metadata": {
    "execution": {
     "iopub.execute_input": "2021-11-02T15:32:16.057424Z",
     "iopub.status.busy": "2021-11-02T15:32:16.056810Z",
     "iopub.status.idle": "2021-11-02T15:32:16.349933Z",
     "shell.execute_reply": "2021-11-02T15:32:16.350339Z"
    },
    "id": "8QG9nueFQKXx"
   },
   "outputs": [
    {
     "name": "stdout",
     "output_type": "stream",
     "text": [
      "(64, 62, 512)\n"
     ]
    }
   ],
   "source": [
    "sample_encoder = Encoder(num_layers=2, d_model=512, num_heads=8,\n",
    "                         dff=2048, input_vocab_size=8500,\n",
    "                         maximum_position_encoding=10000)\n",
    "temp_input = tf.random.uniform((64, 62), dtype=tf.int64, minval=0, maxval=200)\n",
    "\n",
    "sample_encoder_output = sample_encoder(temp_input, training=False, mask=None)\n",
    "\n",
    "print(sample_encoder_output.shape)  # (batch_size, input_seq_len, d_model)"
   ]
  },
  {
   "cell_type": "markdown",
   "metadata": {
    "id": "p-uO6ls8m2O5"
   },
   "source": [
    "### Decoder"
   ]
  },
  {
   "cell_type": "markdown",
   "metadata": {
    "id": "ZtT7PKzrXkNr"
   },
   "source": [
    " The `Decoder` consists of:\n",
    "1.   Output Embedding\n",
    "2.   Positional Encoding\n",
    "3.   N decoder layers\n",
    "\n",
    "The target is put through an embedding which is summed with the positional encoding. The output of this summation is the input to the decoder layers. The output of the decoder is the input to the final linear layer."
   ]
  },
  {
   "cell_type": "code",
   "execution_count": 40,
   "metadata": {
    "execution": {
     "iopub.execute_input": "2021-11-02T15:32:16.360018Z",
     "iopub.status.busy": "2021-11-02T15:32:16.359132Z",
     "iopub.status.idle": "2021-11-02T15:32:16.361876Z",
     "shell.execute_reply": "2021-11-02T15:32:16.362298Z"
    },
    "id": "d5_d5-PLQXwY"
   },
   "outputs": [],
   "source": [
    "class Decoder(tf.keras.layers.Layer):\n",
    "  def __init__(self, num_layers, d_model, num_heads, dff, target_vocab_size,\n",
    "               maximum_position_encoding, rate=0.1):\n",
    "    super(Decoder, self).__init__()\n",
    "\n",
    "    self.d_model = d_model\n",
    "    self.num_layers = num_layers\n",
    "\n",
    "    self.embedding = tf.keras.layers.Embedding(target_vocab_size, d_model)\n",
    "    self.pos_encoding = positional_encoding(maximum_position_encoding, d_model)\n",
    "\n",
    "    self.dec_layers = [DecoderLayer(d_model, num_heads, dff, rate)\n",
    "                       for _ in range(num_layers)]\n",
    "    self.dropout = tf.keras.layers.Dropout(rate)\n",
    "\n",
    "  def call(self, x, enc_output, training,\n",
    "           look_ahead_mask, padding_mask):\n",
    "\n",
    "    seq_len = tf.shape(x)[1]\n",
    "    attention_weights = {}\n",
    "\n",
    "    x = self.embedding(x)  # (batch_size, target_seq_len, d_model)\n",
    "    x *= tf.math.sqrt(tf.cast(self.d_model, tf.float32))\n",
    "    x += self.pos_encoding[:, :seq_len, :]\n",
    "\n",
    "    x = self.dropout(x, training=training)\n",
    "\n",
    "    for i in range(self.num_layers):\n",
    "      x, block1, block2 = self.dec_layers[i](x, enc_output, training,\n",
    "                                             look_ahead_mask, padding_mask)\n",
    "\n",
    "      attention_weights[f'decoder_layer{i+1}_block1'] = block1\n",
    "      attention_weights[f'decoder_layer{i+1}_block2'] = block2\n",
    "\n",
    "    # x.shape == (batch_size, target_seq_len, d_model)\n",
    "    return x, attention_weights"
   ]
  },
  {
   "cell_type": "code",
   "execution_count": 41,
   "metadata": {
    "execution": {
     "iopub.execute_input": "2021-11-02T15:32:16.369084Z",
     "iopub.status.busy": "2021-11-02T15:32:16.368431Z",
     "iopub.status.idle": "2021-11-02T15:32:16.589478Z",
     "shell.execute_reply": "2021-11-02T15:32:16.589963Z"
    },
    "id": "a1jXoAMRZyvu"
   },
   "outputs": [
    {
     "data": {
      "text/plain": [
       "(TensorShape([64, 26, 512]), TensorShape([64, 8, 26, 62]))"
      ]
     },
     "execution_count": 41,
     "metadata": {},
     "output_type": "execute_result"
    }
   ],
   "source": [
    "sample_decoder = Decoder(num_layers=2, d_model=512, num_heads=8,\n",
    "                         dff=2048, target_vocab_size=8000,\n",
    "                         maximum_position_encoding=5000)\n",
    "temp_input = tf.random.uniform((64, 26), dtype=tf.int64, minval=0, maxval=200)\n",
    "\n",
    "output, attn = sample_decoder(temp_input,\n",
    "                              enc_output=sample_encoder_output,\n",
    "                              training=False,\n",
    "                              look_ahead_mask=None,\n",
    "                              padding_mask=None)\n",
    "\n",
    "output.shape, attn['decoder_layer2_block2'].shape"
   ]
  },
  {
   "cell_type": "markdown",
   "metadata": {
    "id": "y54xnJnuYgJ7"
   },
   "source": [
    "## Create the Transformer"
   ]
  },
  {
   "cell_type": "markdown",
   "metadata": {
    "id": "uERO1y54cOKq"
   },
   "source": [
    "Transformer consists of the encoder, decoder and a final linear layer. The output of the decoder is the input to the linear layer and its output is returned."
   ]
  },
  {
   "cell_type": "code",
   "execution_count": 42,
   "metadata": {
    "execution": {
     "iopub.execute_input": "2021-11-02T15:32:16.599417Z",
     "iopub.status.busy": "2021-11-02T15:32:16.598470Z",
     "iopub.status.idle": "2021-11-02T15:32:16.600483Z",
     "shell.execute_reply": "2021-11-02T15:32:16.600896Z"
    },
    "id": "PED3bIpOYkBu"
   },
   "outputs": [],
   "source": [
    "class Transformer(tf.keras.Model):\n",
    "  def __init__(self, num_layers, d_model, num_heads, dff, input_vocab_size,\n",
    "               target_vocab_size, pe_input, pe_target, rate=0.1):\n",
    "    super().__init__()\n",
    "    self.encoder = Encoder(num_layers, d_model, num_heads, dff,\n",
    "                             input_vocab_size, pe_input, rate)\n",
    "\n",
    "    self.decoder = Decoder(num_layers, d_model, num_heads, dff,\n",
    "                           target_vocab_size, pe_target, rate)\n",
    "\n",
    "    self.final_layer = tf.keras.layers.Dense(target_vocab_size)\n",
    "\n",
    "  def call(self, inputs, training):\n",
    "    # Keras models prefer if you pass all your inputs in the first argument\n",
    "    inp, tar = inputs\n",
    "\n",
    "    enc_padding_mask, look_ahead_mask, dec_padding_mask = self.create_masks(inp, tar)\n",
    "\n",
    "    enc_output = self.encoder(inp, training, enc_padding_mask)  # (batch_size, inp_seq_len, d_model)\n",
    "\n",
    "    # dec_output.shape == (batch_size, tar_seq_len, d_model)\n",
    "    dec_output, attention_weights = self.decoder(\n",
    "        tar, enc_output, training, look_ahead_mask, dec_padding_mask)\n",
    "\n",
    "    final_output = self.final_layer(dec_output)  # (batch_size, tar_seq_len, target_vocab_size)\n",
    "\n",
    "    return final_output, attention_weights\n",
    "\n",
    "  def create_masks(self, inp, tar):\n",
    "    # Encoder padding mask\n",
    "    enc_padding_mask = create_padding_mask(inp)\n",
    "\n",
    "    # Used in the 2nd attention block in the decoder.\n",
    "    # This padding mask is used to mask the encoder outputs.\n",
    "    dec_padding_mask = create_padding_mask(inp)\n",
    "\n",
    "    # Used in the 1st attention block in the decoder.\n",
    "    # It is used to pad and mask future tokens in the input received by\n",
    "    # the decoder.\n",
    "    look_ahead_mask = create_look_ahead_mask(tf.shape(tar)[1])\n",
    "    dec_target_padding_mask = create_padding_mask(tar)\n",
    "    look_ahead_mask = tf.maximum(dec_target_padding_mask, look_ahead_mask)\n",
    "\n",
    "    return enc_padding_mask, look_ahead_mask, dec_padding_mask"
   ]
  },
  {
   "cell_type": "code",
   "execution_count": 43,
   "metadata": {
    "execution": {
     "iopub.execute_input": "2021-11-02T15:32:16.607794Z",
     "iopub.status.busy": "2021-11-02T15:32:16.607154Z",
     "iopub.status.idle": "2021-11-02T15:32:17.132777Z",
     "shell.execute_reply": "2021-11-02T15:32:17.133188Z"
    },
    "id": "tJ4fbQcIkHW1"
   },
   "outputs": [
    {
     "data": {
      "text/plain": [
       "TensorShape([64, 36, 8000])"
      ]
     },
     "execution_count": 43,
     "metadata": {},
     "output_type": "execute_result"
    }
   ],
   "source": [
    "sample_transformer = Transformer(\n",
    "    num_layers=2, d_model=512, num_heads=8, dff=2048,\n",
    "    input_vocab_size=8500, target_vocab_size=8000,\n",
    "    pe_input=10000, pe_target=6000)\n",
    "\n",
    "temp_input = tf.random.uniform((64, 38), dtype=tf.int64, minval=0, maxval=200)\n",
    "temp_target = tf.random.uniform((64, 36), dtype=tf.int64, minval=0, maxval=200)\n",
    "\n",
    "fn_out, _ = sample_transformer([temp_input, temp_target], training=False)\n",
    "\n",
    "fn_out.shape  # (batch_size, tar_seq_len, target_vocab_size)"
   ]
  },
  {
   "cell_type": "markdown",
   "metadata": {
    "id": "wsINyf1VEQLC"
   },
   "source": [
    "## Set hyperparameters"
   ]
  },
  {
   "cell_type": "markdown",
   "metadata": {
    "id": "zVjWCxFNcgbt"
   },
   "source": [
    "To keep this example small and relatively fast, the values for `num_layers, d_model, dff` have been reduced. \n",
    "\n",
    "The base model described in the [paper](https://arxiv.org/abs/1706.03762) used: `num_layers=6, d_model=512, dff=2048`."
   ]
  },
  {
   "cell_type": "code",
   "execution_count": 44,
   "metadata": {
    "execution": {
     "iopub.execute_input": "2021-11-02T15:32:17.138320Z",
     "iopub.status.busy": "2021-11-02T15:32:17.137633Z",
     "iopub.status.idle": "2021-11-02T15:32:17.139571Z",
     "shell.execute_reply": "2021-11-02T15:32:17.139966Z"
    },
    "id": "lnJn5SLA2ahP"
   },
   "outputs": [],
   "source": [
    "num_layers = 4\n",
    "d_model = 128\n",
    "dff = 512\n",
    "num_heads = 8\n",
    "dropout_rate = 0.1"
   ]
  },
  {
   "cell_type": "markdown",
   "metadata": {
    "id": "xYEGhEOtzn5W"
   },
   "source": [
    "## Optimizer"
   ]
  },
  {
   "cell_type": "markdown",
   "metadata": {
    "id": "GOmWW--yP3zx"
   },
   "source": [
    "Use the Adam optimizer with a custom learning rate scheduler according to the formula in the [paper](https://arxiv.org/abs/1706.03762).\n",
    "\n",
    "$$\\Large{lrate = d_{model}^{-0.5} * \\min(step{\\_}num^{-0.5}, step{\\_}num \\cdot warmup{\\_}steps^{-1.5})}$$\n"
   ]
  },
  {
   "cell_type": "code",
   "execution_count": 45,
   "metadata": {
    "execution": {
     "iopub.execute_input": "2021-11-02T15:32:17.146596Z",
     "iopub.status.busy": "2021-11-02T15:32:17.145942Z",
     "iopub.status.idle": "2021-11-02T15:32:17.148174Z",
     "shell.execute_reply": "2021-11-02T15:32:17.148798Z"
    },
    "id": "iYQdOO1axwEI"
   },
   "outputs": [],
   "source": [
    "class CustomSchedule(tf.keras.optimizers.schedules.LearningRateSchedule):\n",
    "  def __init__(self, d_model, warmup_steps=4000):\n",
    "    super(CustomSchedule, self).__init__()\n",
    "\n",
    "    self.d_model = d_model\n",
    "    self.d_model = tf.cast(self.d_model, tf.float32)\n",
    "\n",
    "    self.warmup_steps = warmup_steps\n",
    "\n",
    "  def __call__(self, step):\n",
    "    arg1 = tf.math.rsqrt(step)\n",
    "    arg2 = step * (self.warmup_steps ** -1.5)\n",
    "\n",
    "    return tf.math.rsqrt(self.d_model) * tf.math.minimum(arg1, arg2)"
   ]
  },
  {
   "cell_type": "code",
   "execution_count": 46,
   "metadata": {
    "execution": {
     "iopub.execute_input": "2021-11-02T15:32:17.153604Z",
     "iopub.status.busy": "2021-11-02T15:32:17.152931Z",
     "iopub.status.idle": "2021-11-02T15:32:17.155559Z",
     "shell.execute_reply": "2021-11-02T15:32:17.155952Z"
    },
    "id": "7r4scdulztRx"
   },
   "outputs": [],
   "source": [
    "learning_rate = CustomSchedule(d_model)\n",
    "\n",
    "optimizer = tf.keras.optimizers.Adam(learning_rate, beta_1=0.9, beta_2=0.98,\n",
    "                                     epsilon=1e-9)"
   ]
  },
  {
   "cell_type": "code",
   "execution_count": 47,
   "metadata": {
    "execution": {
     "iopub.execute_input": "2021-11-02T15:32:17.161000Z",
     "iopub.status.busy": "2021-11-02T15:32:17.160280Z",
     "iopub.status.idle": "2021-11-02T15:32:17.337231Z",
     "shell.execute_reply": "2021-11-02T15:32:17.336625Z"
    },
    "id": "f33ZCgvHpPdG"
   },
   "outputs": [
    {
     "data": {
      "text/plain": [
       "Text(0.5, 0, 'Train Step')"
      ]
     },
     "execution_count": 47,
     "metadata": {},
     "output_type": "execute_result"
    },
    {
     "data": {
      "image/png": "[encoded data removed]",
      "text/plain": [
       "<Figure size 432x288 with 1 Axes>"
      ]
     },
     "metadata": {
      "needs_background": "light"
     },
     "output_type": "display_data"
    }
   ],
   "source": [
    "temp_learning_rate_schedule = CustomSchedule(d_model)\n",
    "\n",
    "plt.plot(temp_learning_rate_schedule(tf.range(40000, dtype=tf.float32)))\n",
    "plt.ylabel(\"Learning Rate\")\n",
    "plt.xlabel(\"Train Step\")"
   ]
  },
  {
   "cell_type": "markdown",
   "metadata": {
    "id": "YgkDE7hzo8r5"
   },
   "source": [
    "## Loss and metrics"
   ]
  },
  {
   "cell_type": "markdown",
   "metadata": {
    "id": "oxGJtoDuYIHL"
   },
   "source": [
    "Since the target sequences are padded, it is important to apply a padding mask when calculating the loss."
   ]
  },
  {
   "cell_type": "code",
   "execution_count": 48,
   "metadata": {
    "execution": {
     "iopub.execute_input": "2021-11-02T15:32:17.342171Z",
     "iopub.status.busy": "2021-11-02T15:32:17.341515Z",
     "iopub.status.idle": "2021-11-02T15:32:17.343370Z",
     "shell.execute_reply": "2021-11-02T15:32:17.343791Z"
    },
    "id": "MlhsJMm0TW_B"
   },
   "outputs": [],
   "source": [
    "loss_object = tf.keras.losses.SparseCategoricalCrossentropy(\n",
    "    from_logits=True, reduction='none')"
   ]
  },
  {
   "cell_type": "code",
   "execution_count": 49,
   "metadata": {
    "execution": {
     "iopub.execute_input": "2021-11-02T15:32:17.350615Z",
     "iopub.status.busy": "2021-11-02T15:32:17.349933Z",
     "iopub.status.idle": "2021-11-02T15:32:17.351750Z",
     "shell.execute_reply": "2021-11-02T15:32:17.352151Z"
    },
    "id": "67oqVHiT0Eiu"
   },
   "outputs": [],
   "source": [
    "def loss_function(real, pred):\n",
    "  mask = tf.math.logical_not(tf.math.equal(real, 0))\n",
    "  loss_ = loss_object(real, pred)\n",
    "\n",
    "  mask = tf.cast(mask, dtype=loss_.dtype)\n",
    "  loss_ *= mask\n",
    "\n",
    "  return tf.reduce_sum(loss_)/tf.reduce_sum(mask)\n",
    "\n",
    "\n",
    "def accuracy_function(real, pred):\n",
    "  accuracies = tf.equal(real, tf.argmax(pred, axis=2))\n",
    "\n",
    "  mask = tf.math.logical_not(tf.math.equal(real, 0))\n",
    "  accuracies = tf.math.logical_and(mask, accuracies)\n",
    "\n",
    "  accuracies = tf.cast(accuracies, dtype=tf.float32)\n",
    "  mask = tf.cast(mask, dtype=tf.float32)\n",
    "  return tf.reduce_sum(accuracies)/tf.reduce_sum(mask)"
   ]
  },
  {
   "cell_type": "code",
   "execution_count": 50,
   "metadata": {
    "execution": {
     "iopub.execute_input": "2021-11-02T15:32:17.359262Z",
     "iopub.status.busy": "2021-11-02T15:32:17.358589Z",
     "iopub.status.idle": "2021-11-02T15:32:17.364928Z",
     "shell.execute_reply": "2021-11-02T15:32:17.365332Z"
    },
    "id": "phlyxMnm-Tpx"
   },
   "outputs": [],
   "source": [
    "train_loss = tf.keras.metrics.Mean(name='train_loss')\n",
    "train_accuracy = tf.keras.metrics.Mean(name='train_accuracy')"
   ]
  },
  {
   "cell_type": "markdown",
   "metadata": {
    "id": "aeHumfr7zmMa"
   },
   "source": [
    "## Training and checkpointing"
   ]
  },
  {
   "cell_type": "code",
   "execution_count": 51,
   "metadata": {
    "execution": {
     "iopub.execute_input": "2021-11-02T15:32:17.371788Z",
     "iopub.status.busy": "2021-11-02T15:32:17.370180Z",
     "iopub.status.idle": "2021-11-02T15:32:17.483618Z",
     "shell.execute_reply": "2021-11-02T15:32:17.484064Z"
    },
    "id": "UiysUa--4tOU"
   },
   "outputs": [],
   "source": [
    "transformer = Transformer(\n",
    "    num_layers=num_layers,\n",
    "    d_model=d_model,\n",
    "    num_heads=num_heads,\n",
    "    dff=dff,\n",
    "    input_vocab_size=tokenizers.pt.get_vocab_size().numpy(),\n",
    "    target_vocab_size=tokenizers.en.get_vocab_size().numpy(),\n",
    "    pe_input=1000,\n",
    "    pe_target=1000,\n",
    "    rate=dropout_rate)"
   ]
  },
  {
   "cell_type": "markdown",
   "metadata": {
    "id": "Fzuf06YZp66w"
   },
   "source": [
    "Create the checkpoint path and the checkpoint manager. This will be used to save checkpoints every `n` epochs."
   ]
  },
  {
   "cell_type": "code",
   "execution_count": 52,
   "metadata": {
    "execution": {
     "iopub.execute_input": "2021-11-02T15:32:17.490003Z",
     "iopub.status.busy": "2021-11-02T15:32:17.489194Z",
     "iopub.status.idle": "2021-11-02T15:32:17.491327Z",
     "shell.execute_reply": "2021-11-02T15:32:17.491721Z"
    },
    "id": "hNhuYfllndLZ"
   },
   "outputs": [],
   "source": [
    "checkpoint_path = \"./checkpoints/train\"\n",
    "\n",
    "ckpt = tf.train.Checkpoint(transformer=transformer,\n",
    "                           optimizer=optimizer)\n",
    "\n",
    "ckpt_manager = tf.train.CheckpointManager(ckpt, checkpoint_path, max_to_keep=5)\n",
    "\n",
    "# if a checkpoint exists, restore the latest checkpoint.\n",
    "if ckpt_manager.latest_checkpoint:\n",
    "  ckpt.restore(ckpt_manager.latest_checkpoint)\n",
    "  print('Latest checkpoint restored!!')"
   ]
  },
  {
   "cell_type": "markdown",
   "metadata": {
    "id": "0Di_Yaa1gf9r"
   },
   "source": [
    "The target is divided into tar_inp and tar_real. tar_inp is passed as an input to the decoder. `tar_real` is that same input shifted by 1: At each location in `tar_input`, `tar_real` contains the  next token that should be predicted.\n",
    "\n",
    "For example, `sentence` = \"SOS A lion in the jungle is sleeping EOS\"\n",
    "\n",
    "`tar_inp` =  \"SOS A lion in the jungle is sleeping\"\n",
    "\n",
    "`tar_real` = \"A lion in the jungle is sleeping EOS\"\n",
    "\n",
    "The transformer is an auto-regressive model: it makes predictions one part at a time, and uses its output so far to decide what to do next. \n",
    "\n",
    "During training this example uses teacher-forcing (like in the [text generation tutorial](https://www.tensorflow.org/text/tutorials/text_generation)). Teacher forcing is passing the true output to the next time step regardless of what the model predicts at the current time step.\n",
    "\n",
    "As the transformer predicts each token, *self-attention* allows it to look at the previous tokens in the input sequence to better predict the next token.\n",
    "\n",
    "To prevent the model from peeking at the expected output the model uses a look-ahead mask."
   ]
  },
  {
   "cell_type": "code",
   "execution_count": 53,
   "metadata": {
    "execution": {
     "iopub.execute_input": "2021-11-02T15:32:17.495993Z",
     "iopub.status.busy": "2021-11-02T15:32:17.495359Z",
     "iopub.status.idle": "2021-11-02T15:32:17.497564Z",
     "shell.execute_reply": "2021-11-02T15:32:17.496976Z"
    },
    "id": "LKpoA6q1sJFj"
   },
   "outputs": [],
   "source": [
    "EPOCHS = 20"
   ]
  },
  {
   "cell_type": "code",
   "execution_count": 54,
   "metadata": {
    "execution": {
     "iopub.execute_input": "2021-11-02T15:32:17.504835Z",
     "iopub.status.busy": "2021-11-02T15:32:17.504185Z",
     "iopub.status.idle": "2021-11-02T15:32:17.506276Z",
     "shell.execute_reply": "2021-11-02T15:32:17.505803Z"
    },
    "id": "iJwmp9OE29oj"
   },
   "outputs": [],
   "source": [
    "# The @tf.function trace-compiles train_step into a TF graph for faster\n",
    "# execution. The function specializes to the precise shape of the argument\n",
    "# tensors. To avoid re-tracing due to the variable sequence lengths or variable\n",
    "# batch sizes (the last batch is smaller), use input_signature to specify\n",
    "# more generic shapes.\n",
    "\n",
    "train_step_signature = [\n",
    "    tf.TensorSpec(shape=(None, None), dtype=tf.int64),\n",
    "    tf.TensorSpec(shape=(None, None), dtype=tf.int64),\n",
    "]\n",
    "\n",
    "\n",
    "@tf.function(input_signature=train_step_signature)\n",
    "def train_step(inp, tar):\n",
    "  tar_inp = tar[:, :-1]\n",
    "  tar_real = tar[:, 1:]\n",
    "\n",
    "  with tf.GradientTape() as tape:\n",
    "    predictions, _ = transformer([inp, tar_inp],\n",
    "                                 training = True)\n",
    "    loss = loss_function(tar_real, predictions)\n",
    "\n",
    "  gradients = tape.gradient(loss, transformer.trainable_variables)\n",
    "  optimizer.apply_gradients(zip(gradients, transformer.trainable_variables))\n",
    "\n",
    "  train_loss(loss)\n",
    "  train_accuracy(accuracy_function(tar_real, predictions))"
   ]
  },
  {
   "cell_type": "markdown",
   "metadata": {
    "id": "qM2PDWGDJ_8V"
   },
   "source": [
    "Portuguese is used as the input language and English is the target language."
   ]
  },
  {
   "cell_type": "code",
   "execution_count": 55,
   "metadata": {
    "execution": {
     "iopub.execute_input": "2021-11-02T15:32:17.513282Z",
     "iopub.status.busy": "2021-11-02T15:32:17.508722Z",
     "iopub.status.idle": "2021-11-02T15:48:11.804276Z",
     "shell.execute_reply": "2021-11-02T15:48:11.803757Z"
    },
    "id": "bbvmaKNiznHZ"
   },
   "outputs": [
    {
     "name": "stdout",
     "output_type": "stream",
     "text": [
      "Epoch 1 Batch 0 Loss 8.8389 Accuracy 0.0000\n",
      "Epoch 1 Batch 50 Loss 8.7850 Accuracy 0.0015\n",
      "Epoch 1 Batch 100 Loss 8.6954 Accuracy 0.0258\n",
      "Epoch 1 Batch 150 Loss 8.5875 Accuracy 0.0361\n",
      "Epoch 1 Batch 200 Loss 8.4497 Accuracy 0.0396\n",
      "Epoch 1 Batch 250 Loss 8.2832 Accuracy 0.0412\n",
      "Epoch 1 Batch 300 Loss 8.0957 Accuracy 0.0424\n",
      "Epoch 1 Batch 350 Loss 7.9001 Accuracy 0.0462\n",
      "Epoch 1 Batch 400 Loss 7.7106 Accuracy 0.0530\n",
      "Epoch 1 Batch 450 Loss 7.5449 Accuracy 0.0608\n",
      "Epoch 1 Batch 500 Loss 7.3965 Accuracy 0.0686\n",
      "Epoch 1 Batch 550 Loss 7.2629 Accuracy 0.0764\n",
      "Epoch 1 Batch 600 Loss 7.1374 Accuracy 0.0841\n",
      "Epoch 1 Batch 650 Loss 7.0225 Accuracy 0.0915\n",
      "Epoch 1 Batch 700 Loss 6.9148 Accuracy 0.0987\n",
      "Epoch 1 Batch 750 Loss 6.8137 Accuracy 0.1055\n",
      "Epoch 1 Batch 800 Loss 6.7228 Accuracy 0.1115\n",
      "Epoch 1 Loss 6.7072 Accuracy 0.1126\n",
      "Time taken for 1 epoch: 62.48 secs\n",
      "\n",
      "Epoch 2 Batch 0 Loss 5.3320 Accuracy 0.2099\n",
      "Epoch 2 Batch 50 Loss 5.2248 Accuracy 0.2119\n",
      "Epoch 2 Batch 100 Loss 5.1947 Accuracy 0.2152\n",
      "Epoch 2 Batch 150 Loss 5.1643 Accuracy 0.2191\n",
      "Epoch 2 Batch 200 Loss 5.1383 Accuracy 0.2224\n",
      "Epoch 2 Batch 250 Loss 5.1123 Accuracy 0.2254\n",
      "Epoch 2 Batch 300 Loss 5.0864 Accuracy 0.2277\n",
      "Epoch 2 Batch 350 Loss 5.0697 Accuracy 0.2291\n",
      "Epoch 2 Batch 400 Loss 5.0487 Accuracy 0.2313\n",
      "Epoch 2 Batch 450 Loss 5.0272 Accuracy 0.2331\n",
      "Epoch 2 Batch 500 Loss 5.0060 Accuracy 0.2349\n",
      "Epoch 2 Batch 550 Loss 4.9882 Accuracy 0.2365\n",
      "Epoch 2 Batch 600 Loss 4.9677 Accuracy 0.2382\n",
      "Epoch 2 Batch 650 Loss 4.9496 Accuracy 0.2400\n",
      "Epoch 2 Batch 700 Loss 4.9314 Accuracy 0.2417\n",
      "Epoch 2 Batch 750 Loss 4.9172 Accuracy 0.2429\n",
      "Epoch 2 Batch 800 Loss 4.9005 Accuracy 0.2444\n",
      "Epoch 2 Loss 4.8976 Accuracy 0.2447\n",
      "Time taken for 1 epoch: 47.81 secs\n",
      "\n",
      "Epoch 3 Batch 0 Loss 4.7853 Accuracy 0.2318\n",
      "Epoch 3 Batch 50 Loss 4.6041 Accuracy 0.2673\n",
      "Epoch 3 Batch 100 Loss 4.5869 Accuracy 0.2693\n",
      "Epoch 3 Batch 150 Loss 4.5681 Accuracy 0.2723\n",
      "Epoch 3 Batch 200 Loss 4.5502 Accuracy 0.2748\n",
      "Epoch 3 Batch 250 Loss 4.5433 Accuracy 0.2755\n",
      "Epoch 3 Batch 300 Loss 4.5279 Accuracy 0.2771\n",
      "Epoch 3 Batch 350 Loss 4.5123 Accuracy 0.2792\n",
      "Epoch 3 Batch 400 Loss 4.5001 Accuracy 0.2807\n",
      "Epoch 3 Batch 450 Loss 4.4849 Accuracy 0.2825\n",
      "Epoch 3 Batch 500 Loss 4.4699 Accuracy 0.2842\n",
      "Epoch 3 Batch 550 Loss 4.4543 Accuracy 0.2861\n",
      "Epoch 3 Batch 600 Loss 4.4397 Accuracy 0.2879\n",
      "Epoch 3 Batch 650 Loss 4.4260 Accuracy 0.2896\n",
      "Epoch 3 Batch 700 Loss 4.4098 Accuracy 0.2918\n",
      "Epoch 3 Batch 750 Loss 4.3934 Accuracy 0.2938\n",
      "Epoch 3 Batch 800 Loss 4.3774 Accuracy 0.2958\n",
      "Epoch 3 Loss 4.3743 Accuracy 0.2961\n",
      "Time taken for 1 epoch: 47.78 secs\n",
      "\n",
      "Epoch 4 Batch 0 Loss 4.1607 Accuracy 0.3198\n",
      "Epoch 4 Batch 50 Loss 4.0206 Accuracy 0.3366\n",
      "Epoch 4 Batch 100 Loss 4.0181 Accuracy 0.3379\n",
      "Epoch 4 Batch 150 Loss 4.0005 Accuracy 0.3390\n",
      "Epoch 4 Batch 200 Loss 3.9809 Accuracy 0.3420\n",
      "Epoch 4 Batch 250 Loss 3.9716 Accuracy 0.3436\n",
      "Epoch 4 Batch 300 Loss 3.9561 Accuracy 0.3453\n",
      "Epoch 4 Batch 350 Loss 3.9396 Accuracy 0.3476\n",
      "Epoch 4 Batch 400 Loss 3.9287 Accuracy 0.3492\n",
      "Epoch 4 Batch 450 Loss 3.9099 Accuracy 0.3516\n",
      "Epoch 4 Batch 500 Loss 3.8948 Accuracy 0.3534\n",
      "Epoch 4 Batch 550 Loss 3.8796 Accuracy 0.3554\n",
      "Epoch 4 Batch 600 Loss 3.8647 Accuracy 0.3573\n",
      "Epoch 4 Batch 650 Loss 3.8496 Accuracy 0.3593\n",
      "Epoch 4 Batch 700 Loss 3.8345 Accuracy 0.3613\n",
      "Epoch 4 Batch 750 Loss 3.8216 Accuracy 0.3631\n",
      "Epoch 4 Batch 800 Loss 3.8113 Accuracy 0.3645\n",
      "Epoch 4 Loss 3.8084 Accuracy 0.3649\n",
      "Time taken for 1 epoch: 47.74 secs\n",
      "\n",
      "Epoch 5 Batch 0 Loss 3.7892 Accuracy 0.3515\n",
      "Epoch 5 Batch 50 Loss 3.5277 Accuracy 0.3971\n",
      "Epoch 5 Batch 100 Loss 3.4909 Accuracy 0.4026\n",
      "Epoch 5 Batch 150 Loss 3.4709 Accuracy 0.4059\n",
      "Epoch 5 Batch 200 Loss 3.4637 Accuracy 0.4068\n",
      "Epoch 5 Batch 250 Loss 3.4614 Accuracy 0.4071\n",
      "Epoch 5 Batch 300 Loss 3.4471 Accuracy 0.4093\n",
      "Epoch 5 Batch 350 Loss 3.4360 Accuracy 0.4102\n",
      "Epoch 5 Batch 400 Loss 3.4277 Accuracy 0.4112\n",
      "Epoch 5 Batch 450 Loss 3.4186 Accuracy 0.4124\n",
      "Epoch 5 Batch 500 Loss 3.4127 Accuracy 0.4133\n",
      "Epoch 5 Batch 550 Loss 3.4023 Accuracy 0.4145\n",
      "Epoch 5 Batch 600 Loss 3.3931 Accuracy 0.4154\n",
      "Epoch 5 Batch 650 Loss 3.3821 Accuracy 0.4169\n",
      "Epoch 5 Batch 700 Loss 3.3719 Accuracy 0.4183\n",
      "Epoch 5 Batch 750 Loss 3.3632 Accuracy 0.4195\n",
      "Epoch 5 Batch 800 Loss 3.3550 Accuracy 0.4205\n",
      "Saving checkpoint for epoch 5 at ./checkpoints/train/ckpt-1\n",
      "Epoch 5 Loss 3.3540 Accuracy 0.4206\n",
      "Time taken for 1 epoch: 47.47 secs\n",
      "\n",
      "Epoch 6 Batch 0 Loss 3.5078 Accuracy 0.3912\n",
      "Epoch 6 Batch 50 Loss 3.1028 Accuracy 0.4487\n",
      "Epoch 6 Batch 100 Loss 3.0855 Accuracy 0.4503\n",
      "Epoch 6 Batch 150 Loss 3.0784 Accuracy 0.4515\n",
      "Epoch 6 Batch 200 Loss 3.0664 Accuracy 0.4534\n",
      "Epoch 6 Batch 250 Loss 3.0621 Accuracy 0.4537\n",
      "Epoch 6 Batch 300 Loss 3.0512 Accuracy 0.4556\n",
      "Epoch 6 Batch 350 Loss 3.0368 Accuracy 0.4580\n",
      "Epoch 6 Batch 400 Loss 3.0283 Accuracy 0.4592\n",
      "Epoch 6 Batch 450 Loss 3.0176 Accuracy 0.4608\n",
      "Epoch 6 Batch 500 Loss 3.0083 Accuracy 0.4623\n",
      "Epoch 6 Batch 550 Loss 2.9966 Accuracy 0.4639\n",
      "Epoch 6 Batch 600 Loss 2.9871 Accuracy 0.4652\n",
      "Epoch 6 Batch 650 Loss 2.9777 Accuracy 0.4664\n",
      "Epoch 6 Batch 700 Loss 2.9722 Accuracy 0.4673\n",
      "Epoch 6 Batch 750 Loss 2.9650 Accuracy 0.4684\n",
      "Epoch 6 Batch 800 Loss 2.9562 Accuracy 0.4697\n",
      "Epoch 6 Loss 2.9548 Accuracy 0.4698\n",
      "Time taken for 1 epoch: 47.10 secs\n",
      "\n",
      "Epoch 7 Batch 0 Loss 2.7935 Accuracy 0.4985\n",
      "Epoch 7 Batch 50 Loss 2.6880 Accuracy 0.5017\n",
      "Epoch 7 Batch 100 Loss 2.6676 Accuracy 0.5053\n",
      "Epoch 7 Batch 150 Loss 2.6658 Accuracy 0.5062\n",
      "Epoch 7 Batch 200 Loss 2.6631 Accuracy 0.5068\n",
      "Epoch 7 Batch 250 Loss 2.6634 Accuracy 0.5069\n",
      "Epoch 7 Batch 300 Loss 2.6575 Accuracy 0.5078\n",
      "Epoch 7 Batch 350 Loss 2.6485 Accuracy 0.5088\n",
      "Epoch 7 Batch 400 Loss 2.6472 Accuracy 0.5092\n",
      "Epoch 7 Batch 450 Loss 2.6432 Accuracy 0.5097\n",
      "Epoch 7 Batch 500 Loss 2.6398 Accuracy 0.5103\n",
      "Epoch 7 Batch 550 Loss 2.6372 Accuracy 0.5111\n",
      "Epoch 7 Batch 600 Loss 2.6340 Accuracy 0.5115\n",
      "Epoch 7 Batch 650 Loss 2.6292 Accuracy 0.5123\n",
      "Epoch 7 Batch 700 Loss 2.6266 Accuracy 0.5127\n",
      "Epoch 7 Batch 750 Loss 2.6253 Accuracy 0.5129\n",
      "Epoch 7 Batch 800 Loss 2.6217 Accuracy 0.5134\n",
      "Epoch 7 Loss 2.6215 Accuracy 0.5134\n",
      "Time taken for 1 epoch: 47.31 secs\n",
      "\n",
      "Epoch 8 Batch 0 Loss 2.5891 Accuracy 0.5090\n",
      "Epoch 8 Batch 50 Loss 2.4158 Accuracy 0.5395\n",
      "Epoch 8 Batch 100 Loss 2.4099 Accuracy 0.5399\n",
      "Epoch 8 Batch 150 Loss 2.4026 Accuracy 0.5408\n",
      "Epoch 8 Batch 200 Loss 2.4023 Accuracy 0.5409\n",
      "Epoch 8 Batch 250 Loss 2.4053 Accuracy 0.5404\n",
      "Epoch 8 Batch 300 Loss 2.4085 Accuracy 0.5395\n",
      "Epoch 8 Batch 350 Loss 2.4022 Accuracy 0.5406\n",
      "Epoch 8 Batch 400 Loss 2.4031 Accuracy 0.5409\n",
      "Epoch 8 Batch 450 Loss 2.3993 Accuracy 0.5416\n",
      "Epoch 8 Batch 500 Loss 2.3970 Accuracy 0.5421\n",
      "Epoch 8 Batch 550 Loss 2.3945 Accuracy 0.5429\n",
      "Epoch 8 Batch 600 Loss 2.3908 Accuracy 0.5433\n",
      "Epoch 8 Batch 650 Loss 2.3884 Accuracy 0.5439\n",
      "Epoch 8 Batch 700 Loss 2.3864 Accuracy 0.5443\n",
      "Epoch 8 Batch 750 Loss 2.3860 Accuracy 0.5443\n",
      "Epoch 8 Batch 800 Loss 2.3829 Accuracy 0.5448\n",
      "Epoch 8 Loss 2.3815 Accuracy 0.5450\n",
      "Time taken for 1 epoch: 47.15 secs\n",
      "\n",
      "Epoch 9 Batch 0 Loss 2.4162 Accuracy 0.5382\n",
      "Epoch 9 Batch 50 Loss 2.2300 Accuracy 0.5635\n",
      "Epoch 9 Batch 100 Loss 2.2048 Accuracy 0.5665\n",
      "Epoch 9 Batch 150 Loss 2.2009 Accuracy 0.5681\n",
      "Epoch 9 Batch 200 Loss 2.2006 Accuracy 0.5687\n",
      "Epoch 9 Batch 250 Loss 2.2034 Accuracy 0.5682\n",
      "Epoch 9 Batch 300 Loss 2.1974 Accuracy 0.5690\n",
      "Epoch 9 Batch 350 Loss 2.2068 Accuracy 0.5678\n",
      "Epoch 9 Batch 400 Loss 2.2058 Accuracy 0.5682\n",
      "Epoch 9 Batch 450 Loss 2.2109 Accuracy 0.5677\n",
      "Epoch 9 Batch 500 Loss 2.2112 Accuracy 0.5676\n",
      "Epoch 9 Batch 550 Loss 2.2080 Accuracy 0.5685\n",
      "Epoch 9 Batch 600 Loss 2.2106 Accuracy 0.5680\n",
      "Epoch 9 Batch 650 Loss 2.2084 Accuracy 0.5684\n",
      "Epoch 9 Batch 700 Loss 2.2082 Accuracy 0.5686\n",
      "Epoch 9 Batch 750 Loss 2.2089 Accuracy 0.5685\n",
      "Epoch 9 Batch 800 Loss 2.2084 Accuracy 0.5687\n",
      "Epoch 9 Loss 2.2083 Accuracy 0.5686\n",
      "Time taken for 1 epoch: 46.95 secs\n",
      "\n",
      "Epoch 10 Batch 0 Loss 2.2234 Accuracy 0.5604\n",
      "Epoch 10 Batch 50 Loss 2.1030 Accuracy 0.5814\n",
      "Epoch 10 Batch 100 Loss 2.0774 Accuracy 0.5866\n",
      "Epoch 10 Batch 150 Loss 2.0655 Accuracy 0.5881\n",
      "Epoch 10 Batch 200 Loss 2.0661 Accuracy 0.5880\n",
      "Epoch 10 Batch 250 Loss 2.0635 Accuracy 0.5883\n",
      "Epoch 10 Batch 300 Loss 2.0616 Accuracy 0.5888\n",
      "Epoch 10 Batch 350 Loss 2.0636 Accuracy 0.5886\n",
      "Epoch 10 Batch 400 Loss 2.0621 Accuracy 0.5888\n",
      "Epoch 10 Batch 450 Loss 2.0670 Accuracy 0.5878\n",
      "Epoch 10 Batch 500 Loss 2.0652 Accuracy 0.5880\n"
     ]
    },
    {
     "name": "stdout",
     "output_type": "stream",
     "text": [
      "Epoch 10 Batch 550 Loss 2.0686 Accuracy 0.5875\n",
      "Epoch 10 Batch 600 Loss 2.0692 Accuracy 0.5875\n",
      "Epoch 10 Batch 650 Loss 2.0691 Accuracy 0.5876\n",
      "Epoch 10 Batch 700 Loss 2.0707 Accuracy 0.5876\n",
      "Epoch 10 Batch 750 Loss 2.0704 Accuracy 0.5878\n",
      "Epoch 10 Batch 800 Loss 2.0722 Accuracy 0.5876\n",
      "Saving checkpoint for epoch 10 at ./checkpoints/train/ckpt-2\n",
      "Epoch 10 Loss 2.0715 Accuracy 0.5879\n",
      "Time taken for 1 epoch: 47.13 secs\n",
      "\n",
      "Epoch 11 Batch 0 Loss 1.9391 Accuracy 0.6270\n",
      "Epoch 11 Batch 50 Loss 1.9758 Accuracy 0.5977\n",
      "Epoch 11 Batch 100 Loss 1.9564 Accuracy 0.6024\n",
      "Epoch 11 Batch 150 Loss 1.9526 Accuracy 0.6037\n",
      "Epoch 11 Batch 200 Loss 1.9573 Accuracy 0.6030\n",
      "Epoch 11 Batch 250 Loss 1.9471 Accuracy 0.6048\n",
      "Epoch 11 Batch 300 Loss 1.9459 Accuracy 0.6048\n",
      "Epoch 11 Batch 350 Loss 1.9490 Accuracy 0.6042\n",
      "Epoch 11 Batch 400 Loss 1.9518 Accuracy 0.6040\n",
      "Epoch 11 Batch 450 Loss 1.9549 Accuracy 0.6038\n",
      "Epoch 11 Batch 500 Loss 1.9543 Accuracy 0.6040\n",
      "Epoch 11 Batch 550 Loss 1.9537 Accuracy 0.6043\n",
      "Epoch 11 Batch 600 Loss 1.9546 Accuracy 0.6042\n",
      "Epoch 11 Batch 650 Loss 1.9556 Accuracy 0.6040\n",
      "Epoch 11 Batch 700 Loss 1.9582 Accuracy 0.6038\n",
      "Epoch 11 Batch 750 Loss 1.9592 Accuracy 0.6037\n",
      "Epoch 11 Batch 800 Loss 1.9606 Accuracy 0.6037\n",
      "Epoch 11 Loss 1.9614 Accuracy 0.6036\n",
      "Time taken for 1 epoch: 46.59 secs\n",
      "\n",
      "Epoch 12 Batch 0 Loss 1.7234 Accuracy 0.6256\n",
      "Epoch 12 Batch 50 Loss 1.8507 Accuracy 0.6169\n",
      "Epoch 12 Batch 100 Loss 1.8460 Accuracy 0.6184\n",
      "Epoch 12 Batch 150 Loss 1.8366 Accuracy 0.6207\n",
      "Epoch 12 Batch 200 Loss 1.8454 Accuracy 0.6196\n",
      "Epoch 12 Batch 250 Loss 1.8398 Accuracy 0.6205\n",
      "Epoch 12 Batch 300 Loss 1.8441 Accuracy 0.6202\n",
      "Epoch 12 Batch 350 Loss 1.8440 Accuracy 0.6199\n",
      "Epoch 12 Batch 400 Loss 1.8443 Accuracy 0.6200\n",
      "Epoch 12 Batch 450 Loss 1.8452 Accuracy 0.6198\n",
      "Epoch 12 Batch 500 Loss 1.8499 Accuracy 0.6193\n",
      "Epoch 12 Batch 550 Loss 1.8520 Accuracy 0.6190\n",
      "Epoch 12 Batch 600 Loss 1.8554 Accuracy 0.6185\n",
      "Epoch 12 Batch 650 Loss 1.8587 Accuracy 0.6179\n",
      "Epoch 12 Batch 700 Loss 1.8610 Accuracy 0.6176\n",
      "Epoch 12 Batch 750 Loss 1.8655 Accuracy 0.6170\n",
      "Epoch 12 Batch 800 Loss 1.8684 Accuracy 0.6167\n",
      "Epoch 12 Loss 1.8688 Accuracy 0.6167\n",
      "Time taken for 1 epoch: 46.38 secs\n",
      "\n",
      "Epoch 13 Batch 0 Loss 1.7697 Accuracy 0.6350\n",
      "Epoch 13 Batch 50 Loss 1.7443 Accuracy 0.6337\n",
      "Epoch 13 Batch 100 Loss 1.7422 Accuracy 0.6352\n",
      "Epoch 13 Batch 150 Loss 1.7497 Accuracy 0.6331\n",
      "Epoch 13 Batch 200 Loss 1.7603 Accuracy 0.6315\n",
      "Epoch 13 Batch 250 Loss 1.7623 Accuracy 0.6316\n",
      "Epoch 13 Batch 300 Loss 1.7656 Accuracy 0.6315\n",
      "Epoch 13 Batch 350 Loss 1.7669 Accuracy 0.6312\n",
      "Epoch 13 Batch 400 Loss 1.7683 Accuracy 0.6310\n",
      "Epoch 13 Batch 450 Loss 1.7758 Accuracy 0.6298\n",
      "Epoch 13 Batch 500 Loss 1.7758 Accuracy 0.6300\n",
      "Epoch 13 Batch 550 Loss 1.7784 Accuracy 0.6296\n",
      "Epoch 13 Batch 600 Loss 1.7804 Accuracy 0.6294\n",
      "Epoch 13 Batch 650 Loss 1.7825 Accuracy 0.6291\n",
      "Epoch 13 Batch 700 Loss 1.7867 Accuracy 0.6286\n",
      "Epoch 13 Batch 750 Loss 1.7878 Accuracy 0.6284\n",
      "Epoch 13 Batch 800 Loss 1.7913 Accuracy 0.6280\n",
      "Epoch 13 Loss 1.7916 Accuracy 0.6280\n",
      "Time taken for 1 epoch: 46.41 secs\n",
      "\n",
      "Epoch 14 Batch 0 Loss 1.4785 Accuracy 0.6762\n",
      "Epoch 14 Batch 50 Loss 1.7171 Accuracy 0.6378\n",
      "Epoch 14 Batch 100 Loss 1.6949 Accuracy 0.6424\n",
      "Epoch 14 Batch 150 Loss 1.6862 Accuracy 0.6440\n",
      "Epoch 14 Batch 200 Loss 1.6893 Accuracy 0.6442\n",
      "Epoch 14 Batch 250 Loss 1.6927 Accuracy 0.6432\n",
      "Epoch 14 Batch 300 Loss 1.6943 Accuracy 0.6428\n",
      "Epoch 14 Batch 350 Loss 1.6951 Accuracy 0.6427\n",
      "Epoch 14 Batch 400 Loss 1.6961 Accuracy 0.6426\n",
      "Epoch 14 Batch 450 Loss 1.7003 Accuracy 0.6420\n",
      "Epoch 14 Batch 500 Loss 1.7028 Accuracy 0.6415\n",
      "Epoch 14 Batch 550 Loss 1.7027 Accuracy 0.6413\n",
      "Epoch 14 Batch 600 Loss 1.7066 Accuracy 0.6406\n",
      "Epoch 14 Batch 650 Loss 1.7110 Accuracy 0.6399\n",
      "Epoch 14 Batch 700 Loss 1.7140 Accuracy 0.6395\n",
      "Epoch 14 Batch 750 Loss 1.7174 Accuracy 0.6390\n",
      "Epoch 14 Batch 800 Loss 1.7198 Accuracy 0.6389\n",
      "Epoch 14 Loss 1.7210 Accuracy 0.6387\n",
      "Time taken for 1 epoch: 46.84 secs\n",
      "\n",
      "Epoch 15 Batch 0 Loss 1.7209 Accuracy 0.6358\n",
      "Epoch 15 Batch 50 Loss 1.6188 Accuracy 0.6545\n",
      "Epoch 15 Batch 100 Loss 1.6084 Accuracy 0.6567\n",
      "Epoch 15 Batch 150 Loss 1.6169 Accuracy 0.6557\n",
      "Epoch 15 Batch 200 Loss 1.6215 Accuracy 0.6542\n",
      "Epoch 15 Batch 250 Loss 1.6268 Accuracy 0.6534\n",
      "Epoch 15 Batch 300 Loss 1.6257 Accuracy 0.6539\n",
      "Epoch 15 Batch 350 Loss 1.6300 Accuracy 0.6531\n",
      "Epoch 15 Batch 400 Loss 1.6318 Accuracy 0.6527\n",
      "Epoch 15 Batch 450 Loss 1.6360 Accuracy 0.6521\n",
      "Epoch 15 Batch 500 Loss 1.6403 Accuracy 0.6515\n",
      "Epoch 15 Batch 550 Loss 1.6445 Accuracy 0.6509\n",
      "Epoch 15 Batch 600 Loss 1.6467 Accuracy 0.6505\n",
      "Epoch 15 Batch 650 Loss 1.6501 Accuracy 0.6499\n",
      "Epoch 15 Batch 700 Loss 1.6537 Accuracy 0.6495\n",
      "Epoch 15 Batch 750 Loss 1.6560 Accuracy 0.6492\n",
      "Epoch 15 Batch 800 Loss 1.6602 Accuracy 0.6486\n",
      "Saving checkpoint for epoch 15 at ./checkpoints/train/ckpt-3\n",
      "Epoch 15 Loss 1.6598 Accuracy 0.6487\n",
      "Time taken for 1 epoch: 46.54 secs\n",
      "\n",
      "Epoch 16 Batch 0 Loss 1.5373 Accuracy 0.6739\n",
      "Epoch 16 Batch 50 Loss 1.5678 Accuracy 0.6614\n",
      "Epoch 16 Batch 100 Loss 1.5524 Accuracy 0.6646\n",
      "Epoch 16 Batch 150 Loss 1.5550 Accuracy 0.6640\n",
      "Epoch 16 Batch 200 Loss 1.5612 Accuracy 0.6627\n",
      "Epoch 16 Batch 250 Loss 1.5703 Accuracy 0.6608\n",
      "Epoch 16 Batch 300 Loss 1.5771 Accuracy 0.6597\n",
      "Epoch 16 Batch 350 Loss 1.5812 Accuracy 0.6593\n",
      "Epoch 16 Batch 400 Loss 1.5846 Accuracy 0.6588\n",
      "Epoch 16 Batch 450 Loss 1.5864 Accuracy 0.6587\n",
      "Epoch 16 Batch 500 Loss 1.5906 Accuracy 0.6581\n",
      "Epoch 16 Batch 550 Loss 1.5940 Accuracy 0.6575\n",
      "Epoch 16 Batch 600 Loss 1.5938 Accuracy 0.6576\n",
      "Epoch 16 Batch 650 Loss 1.5959 Accuracy 0.6575\n",
      "Epoch 16 Batch 700 Loss 1.5991 Accuracy 0.6571\n",
      "Epoch 16 Batch 750 Loss 1.6017 Accuracy 0.6568\n",
      "Epoch 16 Batch 800 Loss 1.6035 Accuracy 0.6566\n",
      "Epoch 16 Loss 1.6043 Accuracy 0.6565\n",
      "Time taken for 1 epoch: 46.25 secs\n",
      "\n",
      "Epoch 17 Batch 0 Loss 1.6442 Accuracy 0.6463\n",
      "Epoch 17 Batch 50 Loss 1.5289 Accuracy 0.6670\n",
      "Epoch 17 Batch 100 Loss 1.5225 Accuracy 0.6684\n",
      "Epoch 17 Batch 150 Loss 1.5237 Accuracy 0.6685\n",
      "Epoch 17 Batch 200 Loss 1.5301 Accuracy 0.6674\n",
      "Epoch 17 Batch 250 Loss 1.5323 Accuracy 0.6672\n",
      "Epoch 17 Batch 300 Loss 1.5332 Accuracy 0.6670\n",
      "Epoch 17 Batch 350 Loss 1.5349 Accuracy 0.6667\n",
      "Epoch 17 Batch 400 Loss 1.5377 Accuracy 0.6662\n",
      "Epoch 17 Batch 450 Loss 1.5399 Accuracy 0.6660\n",
      "Epoch 17 Batch 500 Loss 1.5412 Accuracy 0.6660\n",
      "Epoch 17 Batch 550 Loss 1.5468 Accuracy 0.6650\n",
      "Epoch 17 Batch 600 Loss 1.5474 Accuracy 0.6651\n",
      "Epoch 17 Batch 650 Loss 1.5504 Accuracy 0.6647\n",
      "Epoch 17 Batch 700 Loss 1.5534 Accuracy 0.6643\n",
      "Epoch 17 Batch 750 Loss 1.5562 Accuracy 0.6639\n",
      "Epoch 17 Batch 800 Loss 1.5583 Accuracy 0.6635\n",
      "Epoch 17 Loss 1.5593 Accuracy 0.6633\n",
      "Time taken for 1 epoch: 46.66 secs\n",
      "\n",
      "Epoch 18 Batch 0 Loss 1.5130 Accuracy 0.6849\n",
      "Epoch 18 Batch 50 Loss 1.4575 Accuracy 0.6796\n",
      "Epoch 18 Batch 100 Loss 1.4698 Accuracy 0.6770\n",
      "Epoch 18 Batch 150 Loss 1.4760 Accuracy 0.6765\n",
      "Epoch 18 Batch 200 Loss 1.4783 Accuracy 0.6762\n",
      "Epoch 18 Batch 250 Loss 1.4811 Accuracy 0.6758\n",
      "Epoch 18 Batch 300 Loss 1.4870 Accuracy 0.6749\n",
      "Epoch 18 Batch 350 Loss 1.4929 Accuracy 0.6738\n",
      "Epoch 18 Batch 400 Loss 1.4945 Accuracy 0.6736\n",
      "Epoch 18 Batch 450 Loss 1.4979 Accuracy 0.6730\n",
      "Epoch 18 Batch 500 Loss 1.4970 Accuracy 0.6731\n",
      "Epoch 18 Batch 550 Loss 1.5004 Accuracy 0.6725\n",
      "Epoch 18 Batch 600 Loss 1.5034 Accuracy 0.6721\n",
      "Epoch 18 Batch 650 Loss 1.5073 Accuracy 0.6715\n",
      "Epoch 18 Batch 700 Loss 1.5096 Accuracy 0.6712\n",
      "Epoch 18 Batch 750 Loss 1.5129 Accuracy 0.6707\n",
      "Epoch 18 Batch 800 Loss 1.5164 Accuracy 0.6701\n",
      "Epoch 18 Loss 1.5160 Accuracy 0.6702\n",
      "Time taken for 1 epoch: 46.40 secs\n",
      "\n",
      "Epoch 19 Batch 0 Loss 1.5139 Accuracy 0.6813\n",
      "Epoch 19 Batch 50 Loss 1.4341 Accuracy 0.6832\n",
      "Epoch 19 Batch 100 Loss 1.4357 Accuracy 0.6828\n",
      "Epoch 19 Batch 150 Loss 1.4364 Accuracy 0.6829\n",
      "Epoch 19 Batch 200 Loss 1.4439 Accuracy 0.6816\n",
      "Epoch 19 Batch 250 Loss 1.4448 Accuracy 0.6816\n",
      "Epoch 19 Batch 300 Loss 1.4494 Accuracy 0.6812\n",
      "Epoch 19 Batch 350 Loss 1.4543 Accuracy 0.6805\n",
      "Epoch 19 Batch 400 Loss 1.4543 Accuracy 0.6804\n",
      "Epoch 19 Batch 450 Loss 1.4583 Accuracy 0.6795\n",
      "Epoch 19 Batch 500 Loss 1.4609 Accuracy 0.6789\n",
      "Epoch 19 Batch 550 Loss 1.4637 Accuracy 0.6786\n",
      "Epoch 19 Batch 600 Loss 1.4641 Accuracy 0.6787\n",
      "Epoch 19 Batch 650 Loss 1.4674 Accuracy 0.6780\n",
      "Epoch 19 Batch 700 Loss 1.4703 Accuracy 0.6776\n",
      "Epoch 19 Batch 750 Loss 1.4722 Accuracy 0.6773\n",
      "Epoch 19 Batch 800 Loss 1.4760 Accuracy 0.6768\n"
     ]
    },
    {
     "name": "stdout",
     "output_type": "stream",
     "text": [
      "Epoch 19 Loss 1.4767 Accuracy 0.6766\n",
      "Time taken for 1 epoch: 46.45 secs\n",
      "\n",
      "Epoch 20 Batch 0 Loss 1.3065 Accuracy 0.7057\n",
      "Epoch 20 Batch 50 Loss 1.3843 Accuracy 0.6909\n",
      "Epoch 20 Batch 100 Loss 1.3941 Accuracy 0.6891\n",
      "Epoch 20 Batch 150 Loss 1.3995 Accuracy 0.6883\n",
      "Epoch 20 Batch 200 Loss 1.3997 Accuracy 0.6888\n",
      "Epoch 20 Batch 250 Loss 1.4033 Accuracy 0.6884\n",
      "Epoch 20 Batch 300 Loss 1.4076 Accuracy 0.6873\n",
      "Epoch 20 Batch 350 Loss 1.4130 Accuracy 0.6864\n",
      "Epoch 20 Batch 400 Loss 1.4144 Accuracy 0.6862\n",
      "Epoch 20 Batch 450 Loss 1.4186 Accuracy 0.6853\n",
      "Epoch 20 Batch 500 Loss 1.4206 Accuracy 0.6851\n",
      "Epoch 20 Batch 550 Loss 1.4225 Accuracy 0.6847\n",
      "Epoch 20 Batch 600 Loss 1.4253 Accuracy 0.6843\n",
      "Epoch 20 Batch 650 Loss 1.4299 Accuracy 0.6835\n",
      "Epoch 20 Batch 700 Loss 1.4324 Accuracy 0.6831\n",
      "Epoch 20 Batch 750 Loss 1.4376 Accuracy 0.6823\n",
      "Epoch 20 Batch 800 Loss 1.4405 Accuracy 0.6817\n",
      "Saving checkpoint for epoch 20 at ./checkpoints/train/ckpt-4\n",
      "Epoch 20 Loss 1.4410 Accuracy 0.6816\n",
      "Time taken for 1 epoch: 46.87 secs\n",
      "\n"
     ]
    }
   ],
   "source": [
    "for epoch in range(EPOCHS):\n",
    "  start = time.time()\n",
    "\n",
    "  train_loss.reset_states()\n",
    "  train_accuracy.reset_states()\n",
    "\n",
    "  # inp -> portuguese, tar -> english\n",
    "  for (batch, (inp, tar)) in enumerate(train_batches):\n",
    "    train_step(inp, tar)\n",
    "\n",
    "    if batch % 50 == 0:\n",
    "      print(f'Epoch {epoch + 1} Batch {batch} Loss {train_loss.result():.4f} Accuracy {train_accuracy.result():.4f}')\n",
    "\n",
    "  if (epoch + 1) % 5 == 0:\n",
    "    ckpt_save_path = ckpt_manager.save()\n",
    "    print(f'Saving checkpoint for epoch {epoch+1} at {ckpt_save_path}')\n",
    "\n",
    "  print(f'Epoch {epoch + 1} Loss {train_loss.result():.4f} Accuracy {train_accuracy.result():.4f}')\n",
    "\n",
    "  print(f'Time taken for 1 epoch: {time.time() - start:.2f} secs\\n')"
   ]
  },
  {
   "cell_type": "markdown",
   "metadata": {
    "id": "QfcsSWswSdGV"
   },
   "source": [
    "### Run inference"
   ]
  },
  {
   "cell_type": "markdown",
   "metadata": {
    "id": "y6APsFrgImLW"
   },
   "source": [
    "The following steps are used for inference:\n",
    "\n",
    "* Encode the input sentence using the Portuguese tokenizer (`tokenizers.pt`). This is the encoder input.\n",
    "* The decoder input is initialized to the `[START]` token.\n",
    "* Calculate the padding masks and the look ahead masks.\n",
    "* The `decoder` then outputs the predictions by looking at the `encoder output` and its own output (self-attention).\n",
    "* Concatenate the predicted token to the decoder input and pass it to the decoder.\n",
    "* In this approach, the decoder predicts the next token based on the previous tokens it predicted."
   ]
  },
  {
   "cell_type": "markdown",
   "metadata": {
    "id": "-FQmQwtv9-kk"
   },
   "source": [
    "Note: The model is optimized for _efficient training_ and makes a next-token prediction for each token in the output simultaneously. This is redundant during inference, and only the last prediction is used.  This model can be made more efficient for inference if you only calculate the last prediction when running in inference mode (`training=False`)."
   ]
  },
  {
   "cell_type": "code",
   "execution_count": 56,
   "metadata": {
    "execution": {
     "iopub.execute_input": "2021-11-02T15:48:11.815006Z",
     "iopub.status.busy": "2021-11-02T15:48:11.814017Z",
     "iopub.status.idle": "2021-11-02T15:48:11.816071Z",
     "shell.execute_reply": "2021-11-02T15:48:11.816465Z"
    },
    "id": "5buvMlnvyrFm"
   },
   "outputs": [],
   "source": [
    "class Translator(tf.Module):\n",
    "  def __init__(self, tokenizers, transformer):\n",
    "    self.tokenizers = tokenizers\n",
    "    self.transformer = transformer\n",
    "\n",
    "  def __call__(self, sentence, max_length=20):\n",
    "    # input sentence is portuguese, hence adding the start and end token\n",
    "    assert isinstance(sentence, tf.Tensor)\n",
    "    if len(sentence.shape) == 0:\n",
    "      sentence = sentence[tf.newaxis]\n",
    "\n",
    "    sentence = self.tokenizers.pt.tokenize(sentence).to_tensor()\n",
    "    \n",
    "    encoder_input = sentence\n",
    "\n",
    "    # as the target is english, the first token to the transformer should be the\n",
    "    # english start token.\n",
    "    start_end = self.tokenizers.en.tokenize([''])[0]\n",
    "    start = start_end[0][tf.newaxis]\n",
    "    end = start_end[1][tf.newaxis]\n",
    "\n",
    "    # `tf.TensorArray` is required here (instead of a python list) so that the\n",
    "    # dynamic-loop can be traced by `tf.function`.\n",
    "    output_array = tf.TensorArray(dtype=tf.int64, size=0, dynamic_size=True)\n",
    "    output_array = output_array.write(0, start)\n",
    "    \n",
    "    for i in tf.range(max_length):\n",
    "      output = tf.transpose(output_array.stack())\n",
    "      predictions, _ = self.transformer([encoder_input, output], training=False)\n",
    "      \n",
    "      # select the last token from the seq_len dimension\n",
    "      predictions = predictions[:, -1:, :]  # (batch_size, 1, vocab_size)\n",
    "\n",
    "      predicted_id = tf.argmax(predictions, axis=-1)\n",
    "\n",
    "      # concatentate the predicted_id to the output which is given to the decoder\n",
    "      # as its input.\n",
    "      output_array = output_array.write(i+1, predicted_id[0])\n",
    "\n",
    "      if predicted_id == end:\n",
    "        break\n",
    "\n",
    "    output = tf.transpose(output_array.stack())\n",
    "    # output.shape (1, tokens)\n",
    "    text = tokenizers.en.detokenize(output)[0]  # shape: ()\n",
    "\n",
    "    tokens = tokenizers.en.lookup(output)[0]\n",
    "\n",
    "    # `tf.function` prevents us from using the attention_weights that were\n",
    "    # calculated on the last iteration of the loop. So recalculate them outside\n",
    "    # the loop.\n",
    "    _, attention_weights = self.transformer([encoder_input, output[:,:-1]], training=False)\n",
    "\n",
    "    return text, tokens, attention_weights"
   ]
  },
  {
   "cell_type": "markdown",
   "metadata": {
    "id": "ofUWszmY3szZ"
   },
   "source": [
    "Create an instance of this `Translator` class, and try it out a few times:"
   ]
  },
  {
   "cell_type": "code",
   "execution_count": 57,
   "metadata": {
    "execution": {
     "iopub.execute_input": "2021-11-02T15:48:11.821040Z",
     "iopub.status.busy": "2021-11-02T15:48:11.820422Z",
     "iopub.status.idle": "2021-11-02T15:48:11.822590Z",
     "shell.execute_reply": "2021-11-02T15:48:11.822037Z"
    },
    "id": "4OR2D4EXeIRY"
   },
   "outputs": [],
   "source": [
    "translator = Translator(tokenizers, transformer)"
   ]
  },
  {
   "cell_type": "code",
   "execution_count": 58,
   "metadata": {
    "execution": {
     "iopub.execute_input": "2021-11-02T15:48:11.827119Z",
     "iopub.status.busy": "2021-11-02T15:48:11.826479Z",
     "iopub.status.idle": "2021-11-02T15:48:11.828111Z",
     "shell.execute_reply": "2021-11-02T15:48:11.828479Z"
    },
    "id": "lU2_yG_vBGza"
   },
   "outputs": [],
   "source": [
    "def print_translation(sentence, tokens, ground_truth):\n",
    "  print(f'{\"Input:\":15s}: {sentence}')\n",
    "  print(f'{\"Prediction\":15s}: {tokens.numpy().decode(\"utf-8\")}')\n",
    "  print(f'{\"Ground truth\":15s}: {ground_truth}')"
   ]
  },
  {
   "cell_type": "code",
   "execution_count": 59,
   "metadata": {
    "execution": {
     "iopub.execute_input": "2021-11-02T15:48:11.833071Z",
     "iopub.status.busy": "2021-11-02T15:48:11.832455Z",
     "iopub.status.idle": "2021-11-02T15:48:13.895217Z",
     "shell.execute_reply": "2021-11-02T15:48:13.895663Z"
    },
    "id": "YsxrAlvFG8SZ"
   },
   "outputs": [
    {
     "name": "stdout",
     "output_type": "stream",
     "text": [
      "Input:         : este é um problema que temos que resolver.\n",
      "Prediction     : this is a problem that we have to solve .\n",
      "Ground truth   : this is a problem we have to solve .\n"
     ]
    }
   ],
   "source": [
    "sentence = \"este é um problema que temos que resolver.\"\n",
    "ground_truth = \"this is a problem we have to solve .\"\n",
    "\n",
    "translated_text, translated_tokens, attention_weights = translator(\n",
    "    tf.constant(sentence))\n",
    "print_translation(sentence, translated_text, ground_truth)"
   ]
  },
  {
   "cell_type": "code",
   "execution_count": 60,
   "metadata": {
    "execution": {
     "iopub.execute_input": "2021-11-02T15:48:13.901448Z",
     "iopub.status.busy": "2021-11-02T15:48:13.900661Z",
     "iopub.status.idle": "2021-11-02T15:48:15.012447Z",
     "shell.execute_reply": "2021-11-02T15:48:15.012843Z"
    },
    "id": "7EH5y_aqI4t1"
   },
   "outputs": [
    {
     "name": "stdout",
     "output_type": "stream",
     "text": [
      "Input:         : os meus vizinhos ouviram sobre esta ideia.\n",
      "Prediction     : my neighbors heard about this idea .\n",
      "Ground truth   : and my neighboring homes heard about this idea .\n"
     ]
    }
   ],
   "source": [
    "sentence = \"os meus vizinhos ouviram sobre esta ideia.\"\n",
    "ground_truth = \"and my neighboring homes heard about this idea .\"\n",
    "\n",
    "translated_text, translated_tokens, attention_weights = translator(\n",
    "    tf.constant(sentence))\n",
    "print_translation(sentence, translated_text, ground_truth)"
   ]
  },
  {
   "cell_type": "code",
   "execution_count": 61,
   "metadata": {
    "execution": {
     "iopub.execute_input": "2021-11-02T15:48:15.018582Z",
     "iopub.status.busy": "2021-11-02T15:48:15.017625Z",
     "iopub.status.idle": "2021-11-02T15:48:17.439321Z",
     "shell.execute_reply": "2021-11-02T15:48:17.439817Z"
    },
    "id": "J-hVCTSUMlkb"
   },
   "outputs": [
    {
     "name": "stdout",
     "output_type": "stream",
     "text": [
      "Input:         : vou então muito rapidamente partilhar convosco algumas histórias de algumas coisas mágicas que aconteceram.\n",
      "Prediction     : so i ' m going to be very quickly share with you some of the magic stories that happened .\n",
      "Ground truth   : so i 'll just share with you some stories very quickly of some magical things that have happened .\n"
     ]
    }
   ],
   "source": [
    "sentence = \"vou então muito rapidamente partilhar convosco algumas histórias de algumas coisas mágicas que aconteceram.\"\n",
    "ground_truth = \"so i \\'ll just share with you some stories very quickly of some magical things that have happened .\"\n",
    "\n",
    "translated_text, translated_tokens, attention_weights = translator(\n",
    "    tf.constant(sentence))\n",
    "print_translation(sentence, translated_text, ground_truth)"
   ]
  },
  {
   "cell_type": "markdown",
   "metadata": {
    "id": "S3EQiFUC--Ds"
   },
   "source": [
    "## Attention plots"
   ]
  },
  {
   "cell_type": "markdown",
   "metadata": {
    "id": "hHV2pdXHGz-0"
   },
   "source": [
    "The `Translator` class returns a dictionary of attention maps you can use to visualize the internal working of the model:"
   ]
  },
  {
   "cell_type": "code",
   "execution_count": 62,
   "metadata": {
    "execution": {
     "iopub.execute_input": "2021-11-02T15:48:17.445498Z",
     "iopub.status.busy": "2021-11-02T15:48:17.444612Z",
     "iopub.status.idle": "2021-11-02T15:48:18.637266Z",
     "shell.execute_reply": "2021-11-02T15:48:18.637655Z"
    },
    "id": "t-kFyiOLH0xg"
   },
   "outputs": [
    {
     "name": "stdout",
     "output_type": "stream",
     "text": [
      "Input:         : este é o primeiro livro que eu fiz.\n",
      "Prediction     : this is the first book i did .\n",
      "Ground truth   : this is the first book i've ever done.\n"
     ]
    }
   ],
   "source": [
    "sentence = \"este é o primeiro livro que eu fiz.\"\n",
    "ground_truth = \"this is the first book i've ever done.\"\n",
    "\n",
    "translated_text, translated_tokens, attention_weights = translator(\n",
    "    tf.constant(sentence))\n",
    "print_translation(sentence, translated_text, ground_truth)"
   ]
  },
  {
   "cell_type": "code",
   "execution_count": 63,
   "metadata": {
    "execution": {
     "iopub.execute_input": "2021-11-02T15:48:18.643597Z",
     "iopub.status.busy": "2021-11-02T15:48:18.640234Z",
     "iopub.status.idle": "2021-11-02T15:48:18.645281Z",
     "shell.execute_reply": "2021-11-02T15:48:18.645669Z"
    },
    "id": "CcI4DxAK5EHY"
   },
   "outputs": [],
   "source": [
    "def plot_attention_head(in_tokens, translated_tokens, attention):\n",
    "  # The plot is of the attention when a token was generated.\n",
    "  # The model didn't generate `<START>` in the output. Skip it.\n",
    "  translated_tokens = translated_tokens[1:]\n",
    "\n",
    "  ax = plt.gca()\n",
    "  ax.matshow(attention)\n",
    "  ax.set_xticks(range(len(in_tokens)))\n",
    "  ax.set_yticks(range(len(translated_tokens)))\n",
    "\n",
    "  labels = [label.decode('utf-8') for label in in_tokens.numpy()]\n",
    "  ax.set_xticklabels(\n",
    "      labels, rotation=90)\n",
    "\n",
    "  labels = [label.decode('utf-8') for label in translated_tokens.numpy()]\n",
    "  ax.set_yticklabels(labels)"
   ]
  },
  {
   "cell_type": "code",
   "execution_count": 64,
   "metadata": {
    "execution": {
     "iopub.execute_input": "2021-11-02T15:48:18.649612Z",
     "iopub.status.busy": "2021-11-02T15:48:18.648204Z",
     "iopub.status.idle": "2021-11-02T15:48:18.653842Z",
     "shell.execute_reply": "2021-11-02T15:48:18.653343Z"
    },
    "id": "_KY4c2cryuxY"
   },
   "outputs": [
    {
     "data": {
      "text/plain": [
       "TensorShape([9, 11])"
      ]
     },
     "execution_count": 64,
     "metadata": {},
     "output_type": "execute_result"
    }
   ],
   "source": [
    "head = 0\n",
    "# shape: (batch=1, num_heads, seq_len_q, seq_len_k)\n",
    "attention_heads = tf.squeeze(\n",
    "  attention_weights['decoder_layer4_block2'], 0)\n",
    "attention = attention_heads[head]\n",
    "attention.shape"
   ]
  },
  {
   "cell_type": "code",
   "execution_count": 65,
   "metadata": {
    "execution": {
     "iopub.execute_input": "2021-11-02T15:48:18.658964Z",
     "iopub.status.busy": "2021-11-02T15:48:18.657997Z",
     "iopub.status.idle": "2021-11-02T15:48:18.677410Z",
     "shell.execute_reply": "2021-11-02T15:48:18.677842Z"
    },
    "id": "XdxmakWE6Om3"
   },
   "outputs": [
    {
     "data": {
      "text/plain": [
       "<tf.Tensor: shape=(11,), dtype=string, numpy=\n",
       "array([b'[START]', b'este', b'e', b'o', b'primeiro', b'livro', b'que',\n",
       "       b'eu', b'fiz', b'.', b'[END]'], dtype=object)>"
      ]
     },
     "execution_count": 65,
     "metadata": {},
     "output_type": "execute_result"
    }
   ],
   "source": [
    "in_tokens = tf.convert_to_tensor([sentence])\n",
    "in_tokens = tokenizers.pt.tokenize(in_tokens).to_tensor()\n",
    "in_tokens = tokenizers.pt.lookup(in_tokens)[0]\n",
    "in_tokens"
   ]
  },
  {
   "cell_type": "code",
   "execution_count": 66,
   "metadata": {
    "execution": {
     "iopub.execute_input": "2021-11-02T15:48:18.681893Z",
     "iopub.status.busy": "2021-11-02T15:48:18.680228Z",
     "iopub.status.idle": "2021-11-02T15:48:18.684096Z",
     "shell.execute_reply": "2021-11-02T15:48:18.684525Z"
    },
    "id": "hVdPSfecmrpj"
   },
   "outputs": [
    {
     "data": {
      "text/plain": [
       "<tf.Tensor: shape=(10,), dtype=string, numpy=\n",
       "array([b'[START]', b'this', b'is', b'the', b'first', b'book', b'i',\n",
       "       b'did', b'.', b'[END]'], dtype=object)>"
      ]
     },
     "execution_count": 66,
     "metadata": {},
     "output_type": "execute_result"
    }
   ],
   "source": [
    "translated_tokens"
   ]
  },
  {
   "cell_type": "code",
   "execution_count": 67,
   "metadata": {
    "execution": {
     "iopub.execute_input": "2021-11-02T15:48:18.707463Z",
     "iopub.status.busy": "2021-11-02T15:48:18.689032Z",
     "iopub.status.idle": "2021-11-02T15:48:18.853302Z",
     "shell.execute_reply": "2021-11-02T15:48:18.852719Z"
    },
    "id": "XtzyKCFamm4N"
   },
   "outputs": [
    {
     "data": {
      "image/png": "[encoded data removed]",
      "text/plain": [
       "<Figure size 432x288 with 1 Axes>"
      ]
     },
     "metadata": {
      "needs_background": "light"
     },
     "output_type": "display_data"
    }
   ],
   "source": [
    "plot_attention_head(in_tokens, translated_tokens, attention)"
   ]
  },
  {
   "cell_type": "code",
   "execution_count": 68,
   "metadata": {
    "execution": {
     "iopub.execute_input": "2021-11-02T15:48:18.859608Z",
     "iopub.status.busy": "2021-11-02T15:48:18.858979Z",
     "iopub.status.idle": "2021-11-02T15:48:18.861037Z",
     "shell.execute_reply": "2021-11-02T15:48:18.861408Z"
    },
    "id": "MBliB-PCzNK3"
   },
   "outputs": [],
   "source": [
    "def plot_attention_weights(sentence, translated_tokens, attention_heads):\n",
    "  in_tokens = tf.convert_to_tensor([sentence])\n",
    "  in_tokens = tokenizers.pt.tokenize(in_tokens).to_tensor()\n",
    "  in_tokens = tokenizers.pt.lookup(in_tokens)[0]\n",
    "  in_tokens\n",
    "\n",
    "  fig = plt.figure(figsize=(16, 8))\n",
    "\n",
    "  for h, head in enumerate(attention_heads):\n",
    "    ax = fig.add_subplot(2, 4, h+1)\n",
    "\n",
    "    plot_attention_head(in_tokens, translated_tokens, head)\n",
    "\n",
    "    ax.set_xlabel(f'Head {h+1}')\n",
    "\n",
    "  plt.tight_layout()\n",
    "  plt.show()"
   ]
  },
  {
   "cell_type": "code",
   "execution_count": 69,
   "metadata": {
    "execution": {
     "iopub.execute_input": "2021-11-02T15:48:18.866144Z",
     "iopub.status.busy": "2021-11-02T15:48:18.865255Z",
     "iopub.status.idle": "2021-11-02T15:48:20.161612Z",
     "shell.execute_reply": "2021-11-02T15:48:20.161110Z"
    },
    "id": "pyRQi7944wru"
   },
   "outputs": [
    {
     "data": {
      "image/png": "[encoded data removed]",
      "text/plain": [
       "<Figure size 1152x576 with 8 Axes>"
      ]
     },
     "metadata": {
      "needs_background": "light"
     },
     "output_type": "display_data"
    }
   ],
   "source": [
    "plot_attention_weights(sentence, translated_tokens,\n",
    "                       attention_weights['decoder_layer4_block2'][0])"
   ]
  },
  {
   "cell_type": "markdown",
   "metadata": {
    "id": "MZJirKUtikTt"
   },
   "source": [
    "The model does okay on unfamiliar words. Neither \"triceratops\" or \"encyclopedia\" are in the input dataset and the model almost learns to transliterate them, even without a shared vocabulary:"
   ]
  },
  {
   "cell_type": "code",
   "execution_count": 70,
   "metadata": {
    "execution": {
     "iopub.execute_input": "2021-11-02T15:48:20.171034Z",
     "iopub.status.busy": "2021-11-02T15:48:20.169836Z",
     "iopub.status.idle": "2021-11-02T15:48:24.747774Z",
     "shell.execute_reply": "2021-11-02T15:48:24.748188Z"
    },
    "id": "9cxysY7uh3jg"
   },
   "outputs": [
    {
     "name": "stdout",
     "output_type": "stream",
     "text": [
      "Input:         : Eu li sobre triceratops na enciclopédia.\n",
      "Prediction     : i read about trivalopat nairconcissus in the encyclo\n",
      "Ground truth   : I read about triceratops in the encyclopedia.\n"
     ]
    },
    {
     "data": {
      "image/png": "[encoded data removed]",
      "text/plain": [
       "<Figure size 1152x576 with 8 Axes>"
      ]
     },
     "metadata": {
      "needs_background": "light"
     },
     "output_type": "display_data"
    }
   ],
   "source": [
    "sentence = \"Eu li sobre triceratops na enciclopédia.\"\n",
    "ground_truth = \"I read about triceratops in the encyclopedia.\"\n",
    "\n",
    "translated_text, translated_tokens, attention_weights = translator(\n",
    "    tf.constant(sentence))\n",
    "print_translation(sentence, translated_text, ground_truth)\n",
    "\n",
    "plot_attention_weights(sentence, translated_tokens,\n",
    "                       attention_weights['decoder_layer4_block2'][0])"
   ]
  },
  {
   "cell_type": "markdown",
   "metadata": {
    "id": "mOyiOetL2l60"
   },
   "source": [
    "## Export"
   ]
  },
  {
   "cell_type": "markdown",
   "metadata": {
    "id": "YTK3g2UL2oMc"
   },
   "source": [
    "That inference model is working, so next you'll export it as a `tf.saved_model`.\n",
    "\n",
    "To do that, wrap it in yet another `tf.Module` sub-class, this time with a `tf.function` on the `__call__` method:"
   ]
  },
  {
   "cell_type": "code",
   "execution_count": 71,
   "metadata": {
    "execution": {
     "iopub.execute_input": "2021-11-02T15:48:24.754512Z",
     "iopub.status.busy": "2021-11-02T15:48:24.753901Z",
     "iopub.status.idle": "2021-11-02T15:48:24.756061Z",
     "shell.execute_reply": "2021-11-02T15:48:24.756440Z"
    },
    "id": "GRmzkibLusQi"
   },
   "outputs": [],
   "source": [
    "class ExportTranslator(tf.Module):\n",
    "  def __init__(self, translator):\n",
    "    self.translator = translator\n",
    "\n",
    "  @tf.function(input_signature=[tf.TensorSpec(shape=[], dtype=tf.string)])\n",
    "  def __call__(self, sentence):\n",
    "    (result, \n",
    "     tokens,\n",
    "     attention_weights) = self.translator(sentence, max_length=100)\n",
    "    \n",
    "    return result"
   ]
  },
  {
   "cell_type": "markdown",
   "metadata": {
    "id": "O9f_pmEA4kql"
   },
   "source": [
    "In the above `tf.function` only the output sentence is returned. Thanks to the [non-strict execution](https://tensorflow.org/guide/intro_to_graphs) in `tf.function` any unnecessary values are never computed."
   ]
  },
  {
   "cell_type": "code",
   "execution_count": 72,
   "metadata": {
    "execution": {
     "iopub.execute_input": "2021-11-02T15:48:24.760525Z",
     "iopub.status.busy": "2021-11-02T15:48:24.759924Z",
     "iopub.status.idle": "2021-11-02T15:48:24.762546Z",
     "shell.execute_reply": "2021-11-02T15:48:24.762080Z"
    },
    "id": "EfomoJDP2n5n"
   },
   "outputs": [],
   "source": [
    "translator = ExportTranslator(translator)"
   ]
  },
  {
   "cell_type": "markdown",
   "metadata": {
    "id": "SUfoCWPS9LuB"
   },
   "source": [
    "Since the model is decoding the predictions using `tf.argmax` the predictions are deterministic. The original model and one reloaded from its `SavedModel` should give identical predictions:"
   ]
  },
  {
   "cell_type": "code",
   "execution_count": 73,
   "metadata": {
    "execution": {
     "iopub.execute_input": "2021-11-02T15:48:24.767963Z",
     "iopub.status.busy": "2021-11-02T15:48:24.767043Z",
     "iopub.status.idle": "2021-11-02T15:48:30.226637Z",
     "shell.execute_reply": "2021-11-02T15:48:30.227125Z"
    },
    "id": "hAlqyycz3IYL"
   },
   "outputs": [
    {
     "data": {
      "text/plain": [
       "b'this is the first book i did .'"
      ]
     },
     "execution_count": 73,
     "metadata": {},
     "output_type": "execute_result"
    }
   ],
   "source": [
    "translator(\"este é o primeiro livro que eu fiz.\").numpy()"
   ]
  },
  {
   "cell_type": "code",
   "execution_count": 74,
   "metadata": {
    "execution": {
     "iopub.execute_input": "2021-11-02T15:48:30.241131Z",
     "iopub.status.busy": "2021-11-02T15:48:30.235682Z",
     "iopub.status.idle": "2021-11-02T15:48:55.647793Z",
     "shell.execute_reply": "2021-11-02T15:48:55.648229Z"
    },
    "id": "ar3LO-Vuvlnv"
   },
   "outputs": [
    {
     "name": "stderr",
     "output_type": "stream",
     "text": [
      "2021-11-02 15:48:30.232789: W tensorflow/python/util/util.cc:348] Sets are not currently considered sequences, but this may change in the future, so consider avoiding using them.\n",
      "WARNING:absl:Found untraced functions such as embedding_4_layer_call_and_return_conditional_losses, embedding_4_layer_call_fn, dropout_37_layer_call_and_return_conditional_losses, dropout_37_layer_call_fn, embedding_5_layer_call_and_return_conditional_losses while saving (showing 5 of 560). These functions will not be directly callable after loading.\n"
     ]
    }
   ],
   "source": [
    "tf.saved_model.save(translator, export_dir='translator')"
   ]
  },
  {
   "cell_type": "code",
   "execution_count": 75,
   "metadata": {
    "execution": {
     "iopub.execute_input": "2021-11-02T15:48:55.656679Z",
     "iopub.status.busy": "2021-11-02T15:48:55.656045Z",
     "iopub.status.idle": "2021-11-02T15:49:05.330187Z",
     "shell.execute_reply": "2021-11-02T15:49:05.330652Z"
    },
    "id": "8WUflwyT1SEF"
   },
   "outputs": [],
   "source": [
    "reloaded = tf.saved_model.load('translator')"
   ]
  },
  {
   "cell_type": "code",
   "execution_count": 76,
   "metadata": {
    "execution": {
     "iopub.execute_input": "2021-11-02T15:49:05.335644Z",
     "iopub.status.busy": "2021-11-02T15:49:05.334799Z",
     "iopub.status.idle": "2021-11-02T15:49:07.605786Z",
     "shell.execute_reply": "2021-11-02T15:49:07.606223Z"
    },
    "id": "-sBTBWwR1XMr"
   },
   "outputs": [
    {
     "data": {
      "text/plain": [
       "b'this is the first book i did .'"
      ]
     },
     "execution_count": 76,
     "metadata": {},
     "output_type": "execute_result"
    }
   ],
   "source": [
    "reloaded(\"este é o primeiro livro que eu fiz.\").numpy()"
   ]
  },
  {
   "cell_type": "markdown",
   "metadata": {
    "id": "RqQ1fIsLwkGE"
   },
   "source": [
    "## Summary\n",
    "\n",
    "In this tutorial, you learned about positional encoding, multi-head attention, the importance of masking and how to create a transformer.\n",
    "\n",
    "Try using a different dataset to train the transformer. You can also create the base transformer or transformer XL by changing the hyperparameters above. You can also use the layers defined here to create [BERT](https://arxiv.org/abs/1810.04805) and train state of the art models. Furthermore, you can implement beam search to get better predictions."
   ]
  }
 ],
 "metadata": {
  "accelerator": "GPU",
  "colab": {
   "collapsed_sections": [],
   "last_runtime": {
    "build_target": "//learning/deepmind/public/tools/ml_python:ml_notebook",
    "kind": "private"
   },
   "name": "transformer.ipynb",
   "provenance": [
    {
     "file_id": "1fpiHY_g7b1-bs_sSRWcbiw9qv4eDU4QZ",
     "timestamp": 1628275335747
    },
    {
     "file_id": "https://github.com/tensorflow/text/blob/master/docs/tutorials/transformer.ipynb",
     "timestamp": 1628273726995
    }
   ],
   "toc_visible": true
  },
  "kernelspec": {
   "display_name": "Python 3 (ipykernel)",
   "language": "python",
   "name": "python3"
  },
  "language_info": {
   "codemirror_mode": {
    "name": "ipython",
    "version": 3
   },
   "file_extension": ".py",
   "mimetype": "text/x-python",
   "name": "python",
   "nbconvert_exporter": "python",
   "pygments_lexer": "ipython3",
   "version": "3.9.7"
  }
 },
 "nbformat": 4,
 "nbformat_minor": 1
}
